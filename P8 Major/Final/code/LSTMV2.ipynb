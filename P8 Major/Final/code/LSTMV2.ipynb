{
 "cells": [
  {
   "cell_type": "code",
   "execution_count": 5,
   "metadata": {
    "executionInfo": {
     "elapsed": 3142,
     "status": "ok",
     "timestamp": 1662651722816,
     "user": {
      "displayName": "Abhiyantraka",
      "userId": "08575671547903053425"
     },
     "user_tz": -345
    },
    "id": "ua4lzqY-nbV5"
   },
   "outputs": [],
   "source": [
    "import pandas as pd\n",
    "import numpy as np\n",
    "import matplotlib.pyplot as plt\n",
    "%matplotlib inline\n",
    "from sklearn.preprocessing import MinMaxScaler\n",
    "import tensorflow as tf\n",
    "\n",
    "#from tensorflow.keras.models import sequential, load_model \n",
    "#from tensorflow.keras.layers import LSTM, Dense, Dropout\n",
    "\n",
    "import os\n",
    "import keras\n",
    "import tensorflow as tf\n",
    "tf.version\n",
    "\n",
    "\n",
    "\n",
    "import datetime as dt\n"
   ]
  },
  {
   "cell_type": "code",
   "execution_count": 6,
   "metadata": {
    "colab": {
     "base_uri": "https://localhost:8080/",
     "height": 206
    },
    "executionInfo": {
     "elapsed": 1699,
     "status": "ok",
     "timestamp": 1662651724499,
     "user": {
      "displayName": "Abhiyantraka",
      "userId": "08575671547903053425"
     },
     "user_tz": -345
    },
    "id": "ln0FVRoUndp4",
    "outputId": "299f8316-372c-409d-c693-4a79906290b8"
   },
   "outputs": [
    {
     "data": {
      "text/html": [
       "\n",
       "  <div id=\"df-6f55ec81-ed6f-4575-ba87-09f8f8128342\">\n",
       "    <div class=\"colab-df-container\">\n",
       "      <div>\n",
       "<style scoped>\n",
       "    .dataframe tbody tr th:only-of-type {\n",
       "        vertical-align: middle;\n",
       "    }\n",
       "\n",
       "    .dataframe tbody tr th {\n",
       "        vertical-align: top;\n",
       "    }\n",
       "\n",
       "    .dataframe thead th {\n",
       "        text-align: right;\n",
       "    }\n",
       "</style>\n",
       "<table border=\"1\" class=\"dataframe\">\n",
       "  <thead>\n",
       "    <tr style=\"text-align: right;\">\n",
       "      <th></th>\n",
       "      <th>Date</th>\n",
       "      <th>Open</th>\n",
       "      <th>High</th>\n",
       "      <th>Low</th>\n",
       "      <th>Close</th>\n",
       "      <th>Adj Close</th>\n",
       "      <th>Volume</th>\n",
       "    </tr>\n",
       "  </thead>\n",
       "  <tbody>\n",
       "    <tr>\n",
       "      <th>0</th>\n",
       "      <td>2000-01-03</td>\n",
       "      <td>0.936384</td>\n",
       "      <td>1.004464</td>\n",
       "      <td>0.907924</td>\n",
       "      <td>0.999442</td>\n",
       "      <td>0.853355</td>\n",
       "      <td>535796800</td>\n",
       "    </tr>\n",
       "    <tr>\n",
       "      <th>1</th>\n",
       "      <td>2000-01-04</td>\n",
       "      <td>0.966518</td>\n",
       "      <td>0.987723</td>\n",
       "      <td>0.903460</td>\n",
       "      <td>0.915179</td>\n",
       "      <td>0.781409</td>\n",
       "      <td>512377600</td>\n",
       "    </tr>\n",
       "    <tr>\n",
       "      <th>2</th>\n",
       "      <td>2000-01-05</td>\n",
       "      <td>0.926339</td>\n",
       "      <td>0.987165</td>\n",
       "      <td>0.919643</td>\n",
       "      <td>0.928571</td>\n",
       "      <td>0.792844</td>\n",
       "      <td>778321600</td>\n",
       "    </tr>\n",
       "    <tr>\n",
       "      <th>3</th>\n",
       "      <td>2000-01-06</td>\n",
       "      <td>0.947545</td>\n",
       "      <td>0.955357</td>\n",
       "      <td>0.848214</td>\n",
       "      <td>0.848214</td>\n",
       "      <td>0.724232</td>\n",
       "      <td>767972800</td>\n",
       "    </tr>\n",
       "    <tr>\n",
       "      <th>4</th>\n",
       "      <td>2000-01-07</td>\n",
       "      <td>0.861607</td>\n",
       "      <td>0.901786</td>\n",
       "      <td>0.852679</td>\n",
       "      <td>0.888393</td>\n",
       "      <td>0.758538</td>\n",
       "      <td>460734400</td>\n",
       "    </tr>\n",
       "  </tbody>\n",
       "</table>\n",
       "</div>\n",
       "      <button class=\"colab-df-convert\" onclick=\"convertToInteractive('df-6f55ec81-ed6f-4575-ba87-09f8f8128342')\"\n",
       "              title=\"Convert this dataframe to an interactive table.\"\n",
       "              style=\"display:none;\">\n",
       "        \n",
       "  <svg xmlns=\"http://www.w3.org/2000/svg\" height=\"24px\"viewBox=\"0 0 24 24\"\n",
       "       width=\"24px\">\n",
       "    <path d=\"M0 0h24v24H0V0z\" fill=\"none\"/>\n",
       "    <path d=\"M18.56 5.44l.94 2.06.94-2.06 2.06-.94-2.06-.94-.94-2.06-.94 2.06-2.06.94zm-11 1L8.5 8.5l.94-2.06 2.06-.94-2.06-.94L8.5 2.5l-.94 2.06-2.06.94zm10 10l.94 2.06.94-2.06 2.06-.94-2.06-.94-.94-2.06-.94 2.06-2.06.94z\"/><path d=\"M17.41 7.96l-1.37-1.37c-.4-.4-.92-.59-1.43-.59-.52 0-1.04.2-1.43.59L10.3 9.45l-7.72 7.72c-.78.78-.78 2.05 0 2.83L4 21.41c.39.39.9.59 1.41.59.51 0 1.02-.2 1.41-.59l7.78-7.78 2.81-2.81c.8-.78.8-2.07 0-2.86zM5.41 20L4 18.59l7.72-7.72 1.47 1.35L5.41 20z\"/>\n",
       "  </svg>\n",
       "      </button>\n",
       "      \n",
       "  <style>\n",
       "    .colab-df-container {\n",
       "      display:flex;\n",
       "      flex-wrap:wrap;\n",
       "      gap: 12px;\n",
       "    }\n",
       "\n",
       "    .colab-df-convert {\n",
       "      background-color: #E8F0FE;\n",
       "      border: none;\n",
       "      border-radius: 50%;\n",
       "      cursor: pointer;\n",
       "      display: none;\n",
       "      fill: #1967D2;\n",
       "      height: 32px;\n",
       "      padding: 0 0 0 0;\n",
       "      width: 32px;\n",
       "    }\n",
       "\n",
       "    .colab-df-convert:hover {\n",
       "      background-color: #E2EBFA;\n",
       "      box-shadow: 0px 1px 2px rgba(60, 64, 67, 0.3), 0px 1px 3px 1px rgba(60, 64, 67, 0.15);\n",
       "      fill: #174EA6;\n",
       "    }\n",
       "\n",
       "    [theme=dark] .colab-df-convert {\n",
       "      background-color: #3B4455;\n",
       "      fill: #D2E3FC;\n",
       "    }\n",
       "\n",
       "    [theme=dark] .colab-df-convert:hover {\n",
       "      background-color: #434B5C;\n",
       "      box-shadow: 0px 1px 3px 1px rgba(0, 0, 0, 0.15);\n",
       "      filter: drop-shadow(0px 1px 2px rgba(0, 0, 0, 0.3));\n",
       "      fill: #FFFFFF;\n",
       "    }\n",
       "  </style>\n",
       "\n",
       "      <script>\n",
       "        const buttonEl =\n",
       "          document.querySelector('#df-6f55ec81-ed6f-4575-ba87-09f8f8128342 button.colab-df-convert');\n",
       "        buttonEl.style.display =\n",
       "          google.colab.kernel.accessAllowed ? 'block' : 'none';\n",
       "\n",
       "        async function convertToInteractive(key) {\n",
       "          const element = document.querySelector('#df-6f55ec81-ed6f-4575-ba87-09f8f8128342');\n",
       "          const dataTable =\n",
       "            await google.colab.kernel.invokeFunction('convertToInteractive',\n",
       "                                                     [key], {});\n",
       "          if (!dataTable) return;\n",
       "\n",
       "          const docLinkHtml = 'Like what you see? Visit the ' +\n",
       "            '<a target=\"_blank\" href=https://colab.research.google.com/notebooks/data_table.ipynb>data table notebook</a>'\n",
       "            + ' to learn more about interactive tables.';\n",
       "          element.innerHTML = '';\n",
       "          dataTable['output_type'] = 'display_data';\n",
       "          await google.colab.output.renderOutput(dataTable, element);\n",
       "          const docLink = document.createElement('div');\n",
       "          docLink.innerHTML = docLinkHtml;\n",
       "          element.appendChild(docLink);\n",
       "        }\n",
       "      </script>\n",
       "    </div>\n",
       "  </div>\n",
       "  "
      ],
      "text/plain": [
       "         Date      Open      High       Low     Close  Adj Close     Volume\n",
       "0  2000-01-03  0.936384  1.004464  0.907924  0.999442   0.853355  535796800\n",
       "1  2000-01-04  0.966518  0.987723  0.903460  0.915179   0.781409  512377600\n",
       "2  2000-01-05  0.926339  0.987165  0.919643  0.928571   0.792844  778321600\n",
       "3  2000-01-06  0.947545  0.955357  0.848214  0.848214   0.724232  767972800\n",
       "4  2000-01-07  0.861607  0.901786  0.852679  0.888393   0.758538  460734400"
      ]
     },
     "execution_count": 6,
     "metadata": {},
     "output_type": "execute_result"
    }
   ],
   "source": [
    "df = pd.read_csv('/content/drive/MyDrive/Colab Notebooks/stock_version2/AAPL.csv')\n",
    "df.head()"
   ]
  },
  {
   "cell_type": "code",
   "execution_count": 7,
   "metadata": {
    "colab": {
     "base_uri": "https://localhost:8080/",
     "height": 206
    },
    "executionInfo": {
     "elapsed": 115,
     "status": "ok",
     "timestamp": 1662651724504,
     "user": {
      "displayName": "Abhiyantraka",
      "userId": "08575671547903053425"
     },
     "user_tz": -345
    },
    "id": "FsBe2k28ntb3",
    "outputId": "a0e72c38-b5e1-4685-ad93-e76285f2e7e3"
   },
   "outputs": [
    {
     "data": {
      "text/html": [
       "\n",
       "  <div id=\"df-8ee58f37-f733-434f-9620-60668352c9f2\">\n",
       "    <div class=\"colab-df-container\">\n",
       "      <div>\n",
       "<style scoped>\n",
       "    .dataframe tbody tr th:only-of-type {\n",
       "        vertical-align: middle;\n",
       "    }\n",
       "\n",
       "    .dataframe tbody tr th {\n",
       "        vertical-align: top;\n",
       "    }\n",
       "\n",
       "    .dataframe thead th {\n",
       "        text-align: right;\n",
       "    }\n",
       "</style>\n",
       "<table border=\"1\" class=\"dataframe\">\n",
       "  <thead>\n",
       "    <tr style=\"text-align: right;\">\n",
       "      <th></th>\n",
       "      <th>Date</th>\n",
       "      <th>Open</th>\n",
       "      <th>High</th>\n",
       "      <th>Low</th>\n",
       "      <th>Close</th>\n",
       "      <th>Adj Close</th>\n",
       "      <th>Volume</th>\n",
       "    </tr>\n",
       "  </thead>\n",
       "  <tbody>\n",
       "    <tr>\n",
       "      <th>5531</th>\n",
       "      <td>2021-12-27</td>\n",
       "      <td>177.089996</td>\n",
       "      <td>180.419998</td>\n",
       "      <td>177.070007</td>\n",
       "      <td>180.330002</td>\n",
       "      <td>179.586868</td>\n",
       "      <td>74919600</td>\n",
       "    </tr>\n",
       "    <tr>\n",
       "      <th>5532</th>\n",
       "      <td>2021-12-28</td>\n",
       "      <td>180.160004</td>\n",
       "      <td>181.330002</td>\n",
       "      <td>178.529999</td>\n",
       "      <td>179.289993</td>\n",
       "      <td>178.551132</td>\n",
       "      <td>79144300</td>\n",
       "    </tr>\n",
       "    <tr>\n",
       "      <th>5533</th>\n",
       "      <td>2021-12-29</td>\n",
       "      <td>179.330002</td>\n",
       "      <td>180.630005</td>\n",
       "      <td>178.139999</td>\n",
       "      <td>179.380005</td>\n",
       "      <td>178.640778</td>\n",
       "      <td>62348900</td>\n",
       "    </tr>\n",
       "    <tr>\n",
       "      <th>5534</th>\n",
       "      <td>2021-12-30</td>\n",
       "      <td>179.470001</td>\n",
       "      <td>180.570007</td>\n",
       "      <td>178.089996</td>\n",
       "      <td>178.199997</td>\n",
       "      <td>177.465637</td>\n",
       "      <td>59773000</td>\n",
       "    </tr>\n",
       "    <tr>\n",
       "      <th>5535</th>\n",
       "      <td>2021-12-31</td>\n",
       "      <td>178.089996</td>\n",
       "      <td>179.229996</td>\n",
       "      <td>177.259995</td>\n",
       "      <td>177.570007</td>\n",
       "      <td>176.838242</td>\n",
       "      <td>64062300</td>\n",
       "    </tr>\n",
       "  </tbody>\n",
       "</table>\n",
       "</div>\n",
       "      <button class=\"colab-df-convert\" onclick=\"convertToInteractive('df-8ee58f37-f733-434f-9620-60668352c9f2')\"\n",
       "              title=\"Convert this dataframe to an interactive table.\"\n",
       "              style=\"display:none;\">\n",
       "        \n",
       "  <svg xmlns=\"http://www.w3.org/2000/svg\" height=\"24px\"viewBox=\"0 0 24 24\"\n",
       "       width=\"24px\">\n",
       "    <path d=\"M0 0h24v24H0V0z\" fill=\"none\"/>\n",
       "    <path d=\"M18.56 5.44l.94 2.06.94-2.06 2.06-.94-2.06-.94-.94-2.06-.94 2.06-2.06.94zm-11 1L8.5 8.5l.94-2.06 2.06-.94-2.06-.94L8.5 2.5l-.94 2.06-2.06.94zm10 10l.94 2.06.94-2.06 2.06-.94-2.06-.94-.94-2.06-.94 2.06-2.06.94z\"/><path d=\"M17.41 7.96l-1.37-1.37c-.4-.4-.92-.59-1.43-.59-.52 0-1.04.2-1.43.59L10.3 9.45l-7.72 7.72c-.78.78-.78 2.05 0 2.83L4 21.41c.39.39.9.59 1.41.59.51 0 1.02-.2 1.41-.59l7.78-7.78 2.81-2.81c.8-.78.8-2.07 0-2.86zM5.41 20L4 18.59l7.72-7.72 1.47 1.35L5.41 20z\"/>\n",
       "  </svg>\n",
       "      </button>\n",
       "      \n",
       "  <style>\n",
       "    .colab-df-container {\n",
       "      display:flex;\n",
       "      flex-wrap:wrap;\n",
       "      gap: 12px;\n",
       "    }\n",
       "\n",
       "    .colab-df-convert {\n",
       "      background-color: #E8F0FE;\n",
       "      border: none;\n",
       "      border-radius: 50%;\n",
       "      cursor: pointer;\n",
       "      display: none;\n",
       "      fill: #1967D2;\n",
       "      height: 32px;\n",
       "      padding: 0 0 0 0;\n",
       "      width: 32px;\n",
       "    }\n",
       "\n",
       "    .colab-df-convert:hover {\n",
       "      background-color: #E2EBFA;\n",
       "      box-shadow: 0px 1px 2px rgba(60, 64, 67, 0.3), 0px 1px 3px 1px rgba(60, 64, 67, 0.15);\n",
       "      fill: #174EA6;\n",
       "    }\n",
       "\n",
       "    [theme=dark] .colab-df-convert {\n",
       "      background-color: #3B4455;\n",
       "      fill: #D2E3FC;\n",
       "    }\n",
       "\n",
       "    [theme=dark] .colab-df-convert:hover {\n",
       "      background-color: #434B5C;\n",
       "      box-shadow: 0px 1px 3px 1px rgba(0, 0, 0, 0.15);\n",
       "      filter: drop-shadow(0px 1px 2px rgba(0, 0, 0, 0.3));\n",
       "      fill: #FFFFFF;\n",
       "    }\n",
       "  </style>\n",
       "\n",
       "      <script>\n",
       "        const buttonEl =\n",
       "          document.querySelector('#df-8ee58f37-f733-434f-9620-60668352c9f2 button.colab-df-convert');\n",
       "        buttonEl.style.display =\n",
       "          google.colab.kernel.accessAllowed ? 'block' : 'none';\n",
       "\n",
       "        async function convertToInteractive(key) {\n",
       "          const element = document.querySelector('#df-8ee58f37-f733-434f-9620-60668352c9f2');\n",
       "          const dataTable =\n",
       "            await google.colab.kernel.invokeFunction('convertToInteractive',\n",
       "                                                     [key], {});\n",
       "          if (!dataTable) return;\n",
       "\n",
       "          const docLinkHtml = 'Like what you see? Visit the ' +\n",
       "            '<a target=\"_blank\" href=https://colab.research.google.com/notebooks/data_table.ipynb>data table notebook</a>'\n",
       "            + ' to learn more about interactive tables.';\n",
       "          element.innerHTML = '';\n",
       "          dataTable['output_type'] = 'display_data';\n",
       "          await google.colab.output.renderOutput(dataTable, element);\n",
       "          const docLink = document.createElement('div');\n",
       "          docLink.innerHTML = docLinkHtml;\n",
       "          element.appendChild(docLink);\n",
       "        }\n",
       "      </script>\n",
       "    </div>\n",
       "  </div>\n",
       "  "
      ],
      "text/plain": [
       "            Date        Open        High         Low       Close   Adj Close  \\\n",
       "5531  2021-12-27  177.089996  180.419998  177.070007  180.330002  179.586868   \n",
       "5532  2021-12-28  180.160004  181.330002  178.529999  179.289993  178.551132   \n",
       "5533  2021-12-29  179.330002  180.630005  178.139999  179.380005  178.640778   \n",
       "5534  2021-12-30  179.470001  180.570007  178.089996  178.199997  177.465637   \n",
       "5535  2021-12-31  178.089996  179.229996  177.259995  177.570007  176.838242   \n",
       "\n",
       "        Volume  \n",
       "5531  74919600  \n",
       "5532  79144300  \n",
       "5533  62348900  \n",
       "5534  59773000  \n",
       "5535  64062300  "
      ]
     },
     "execution_count": 7,
     "metadata": {},
     "output_type": "execute_result"
    }
   ],
   "source": [
    "df.tail()"
   ]
  },
  {
   "cell_type": "code",
   "execution_count": 8,
   "metadata": {
    "colab": {
     "base_uri": "https://localhost:8080/"
    },
    "executionInfo": {
     "elapsed": 112,
     "status": "ok",
     "timestamp": 1662651724506,
     "user": {
      "displayName": "Abhiyantraka",
      "userId": "08575671547903053425"
     },
     "user_tz": -345
    },
    "id": "igCi71fwnyxj",
    "outputId": "1a8a1f6c-1c35-41b3-f156-74e3874226c1"
   },
   "outputs": [
    {
     "data": {
      "text/plain": [
       "0         0.999442\n",
       "1         0.915179\n",
       "2         0.928571\n",
       "3         0.848214\n",
       "4         0.888393\n",
       "           ...    \n",
       "5531    180.330002\n",
       "5532    179.289993\n",
       "5533    179.380005\n",
       "5534    178.199997\n",
       "5535    177.570007\n",
       "Name: Close, Length: 5536, dtype: float64"
      ]
     },
     "execution_count": 8,
     "metadata": {},
     "output_type": "execute_result"
    }
   ],
   "source": [
    "df1=df.reset_index()['Close']\n",
    "df1"
   ]
  },
  {
   "cell_type": "code",
   "execution_count": 9,
   "metadata": {
    "colab": {
     "base_uri": "https://localhost:8080/",
     "height": 282
    },
    "executionInfo": {
     "elapsed": 99,
     "status": "ok",
     "timestamp": 1662651724508,
     "user": {
      "displayName": "Abhiyantraka",
      "userId": "08575671547903053425"
     },
     "user_tz": -345
    },
    "id": "WuV1FMeAocr-",
    "outputId": "40d6a0f1-8d70-4dce-b08d-9db0e45802a9"
   },
   "outputs": [
    {
     "data": {
      "text/plain": [
       "[<matplotlib.lines.Line2D at 0x7f72686e77d0>]"
      ]
     },
     "execution_count": 9,
     "metadata": {},
     "output_type": "execute_result"
    },
    {
     "data": {
      "image/png": "[encoded data removed]",
      "text/plain": [
       "<Figure size 432x288 with 1 Axes>"
      ]
     },
     "metadata": {
      "needs_background": "light"
     },
     "output_type": "display_data"
    }
   ],
   "source": [
    "plt.plot(df1)\n"
   ]
  },
  {
   "cell_type": "markdown",
   "metadata": {
    "id": "pDk-q6Tqpy_2"
   },
   "source": [
    "**Scaling the dataset**"
   ]
  },
  {
   "cell_type": "code",
   "execution_count": 10,
   "metadata": {
    "executionInfo": {
     "elapsed": 86,
     "status": "ok",
     "timestamp": 1662651724511,
     "user": {
      "displayName": "Abhiyantraka",
      "userId": "08575671547903053425"
     },
     "user_tz": -345
    },
    "id": "1MKTVcxyp21u"
   },
   "outputs": [],
   "source": [
    "from sklearn.preprocessing import MinMaxScaler\n",
    "scaler=MinMaxScaler(feature_range=(0,1))\n",
    "df1=scaler.fit_transform(np.array(df1).reshape(-1,1))"
   ]
  },
  {
   "cell_type": "code",
   "execution_count": 11,
   "metadata": {
    "colab": {
     "base_uri": "https://localhost:8080/"
    },
    "executionInfo": {
     "elapsed": 84,
     "status": "ok",
     "timestamp": 1662651724512,
     "user": {
      "displayName": "Abhiyantraka",
      "userId": "08575671547903053425"
     },
     "user_tz": -345
    },
    "id": "vKOF4Hw0p8MG",
    "outputId": "494172d9-357a-4f6d-b00a-6ce20bfc1bd3"
   },
   "outputs": [
    {
     "data": {
      "text/plain": [
       "array([[0.00424861],\n",
       "       [0.00378073],\n",
       "       [0.00385509],\n",
       "       ...,\n",
       "       [0.99472504],\n",
       "       [0.98817293],\n",
       "       [0.98467484]])"
      ]
     },
     "execution_count": 11,
     "metadata": {},
     "output_type": "execute_result"
    }
   ],
   "source": [
    "df1"
   ]
  },
  {
   "cell_type": "markdown",
   "metadata": {
    "id": "KfaEWOPoq24M"
   },
   "source": [
    "Splitting dataset into train and test split"
   ]
  },
  {
   "cell_type": "code",
   "execution_count": 12,
   "metadata": {
    "executionInfo": {
     "elapsed": 76,
     "status": "ok",
     "timestamp": 1662651724513,
     "user": {
      "displayName": "Abhiyantraka",
      "userId": "08575671547903053425"
     },
     "user_tz": -345
    },
    "id": "hMynHD_BrMBP"
   },
   "outputs": [],
   "source": [
    "training_size=int(len(df1)*0.8)\n",
    "test_size=len(df1)-training_size\n"
   ]
  },
  {
   "cell_type": "code",
   "execution_count": 13,
   "metadata": {
    "colab": {
     "base_uri": "https://localhost:8080/"
    },
    "executionInfo": {
     "elapsed": 76,
     "status": "ok",
     "timestamp": 1662651724515,
     "user": {
      "displayName": "Abhiyantraka",
      "userId": "08575671547903053425"
     },
     "user_tz": -345
    },
    "id": "enZJ0o4zq55_",
    "outputId": "5d289587-2ad2-4886-d29c-793d9711f191"
   },
   "outputs": [
    {
     "data": {
      "text/plain": [
       "(4428, 1108)"
      ]
     },
     "execution_count": 13,
     "metadata": {},
     "output_type": "execute_result"
    }
   ],
   "source": [
    "training_size, test_size\n"
   ]
  },
  {
   "cell_type": "code",
   "execution_count": 14,
   "metadata": {
    "executionInfo": {
     "elapsed": 70,
     "status": "ok",
     "timestamp": 1662651724516,
     "user": {
      "displayName": "Abhiyantraka",
      "userId": "08575671547903053425"
     },
     "user_tz": -345
    },
    "id": "F9l5z6-RwcNM"
   },
   "outputs": [],
   "source": [
    "train_data,test_data=df1[0:training_size,:],df1[training_size:len(df1),:1]\n"
   ]
  },
  {
   "cell_type": "code",
   "execution_count": 15,
   "metadata": {
    "colab": {
     "base_uri": "https://localhost:8080/"
    },
    "executionInfo": {
     "elapsed": 72,
     "status": "ok",
     "timestamp": 1662651724520,
     "user": {
      "displayName": "Abhiyantraka",
      "userId": "08575671547903053425"
     },
     "user_tz": -345
    },
    "id": "rq2jbSt0wMTQ",
    "outputId": "f62ac9f5-2e8e-4214-daf3-fb2fdc064aad"
   },
   "outputs": [
    {
     "data": {
      "text/plain": [
       "4428"
      ]
     },
     "execution_count": 15,
     "metadata": {},
     "output_type": "execute_result"
    }
   ],
   "source": [
    "train_data\n",
    "len(train_data)"
   ]
  },
  {
   "cell_type": "code",
   "execution_count": 16,
   "metadata": {
    "colab": {
     "base_uri": "https://localhost:8080/"
    },
    "executionInfo": {
     "elapsed": 64,
     "status": "ok",
     "timestamp": 1662651724521,
     "user": {
      "displayName": "Abhiyantraka",
      "userId": "08575671547903053425"
     },
     "user_tz": -345
    },
    "id": "s02Vfwbbwp8c",
    "outputId": "f81aed94-6d01-499f-b501-ea15bb1a7b73"
   },
   "outputs": [
    {
     "data": {
      "text/plain": [
       "1108"
      ]
     },
     "execution_count": 16,
     "metadata": {},
     "output_type": "execute_result"
    }
   ],
   "source": [
    "test_data\n",
    "len(test_data)\n"
   ]
  },
  {
   "cell_type": "code",
   "execution_count": 17,
   "metadata": {
    "executionInfo": {
     "elapsed": 57,
     "status": "ok",
     "timestamp": 1662651724522,
     "user": {
      "displayName": "Abhiyantraka",
      "userId": "08575671547903053425"
     },
     "user_tz": -345
    },
    "id": "q4cRbXVZws6w"
   },
   "outputs": [],
   "source": [
    "# convert an array of values into a dataset matrix\n",
    "def create_dataset(dataset, time_step=1):\n",
    "\tdataX, dataY = [], []\n",
    "\tfor i in range(len(dataset)-time_step-1):\n",
    "\t\ta = dataset[i:(i+time_step), 0]   ###i=0, 0,1,2,3-----99   100 \n",
    "\t\tdataX.append(a)\n",
    "\t\tdataY.append(dataset[i + time_step, 0])\n",
    "\treturn np.array(dataX), np.array(dataY)"
   ]
  },
  {
   "cell_type": "code",
   "execution_count": 18,
   "metadata": {
    "executionInfo": {
     "elapsed": 664,
     "status": "ok",
     "timestamp": 1662651725131,
     "user": {
      "displayName": "Abhiyantraka",
      "userId": "08575671547903053425"
     },
     "user_tz": -345
    },
    "id": "y4WiC4GD-iJ9"
   },
   "outputs": [],
   "source": [
    "# reshape into X=t,t+1,t+2,t+3 and Y=t+4\n",
    "time_step = 100\n",
    "X_train, y_train = create_dataset(train_data, time_step)\n",
    "X_test, ytest = create_dataset(test_data, time_step)"
   ]
  },
  {
   "cell_type": "code",
   "execution_count": 19,
   "metadata": {
    "colab": {
     "base_uri": "https://localhost:8080/"
    },
    "executionInfo": {
     "elapsed": 47,
     "status": "ok",
     "timestamp": 1662651725133,
     "user": {
      "displayName": "Abhiyantraka",
      "userId": "08575671547903053425"
     },
     "user_tz": -345
    },
    "id": "ZSbm96eGFdJS",
    "outputId": "f73f23ab-0b57-4a12-8c47-baa98485d673"
   },
   "outputs": [
    {
     "name": "stdout",
     "output_type": "stream",
     "text": [
      "(4327, 100)\n",
      "(4327,)\n"
     ]
    },
    {
     "data": {
      "text/plain": [
       "(None, None)"
      ]
     },
     "execution_count": 19,
     "metadata": {},
     "output_type": "execute_result"
    }
   ],
   "source": [
    "print(X_train.shape), print(y_train.shape)\n"
   ]
  },
  {
   "cell_type": "code",
   "execution_count": 20,
   "metadata": {
    "colab": {
     "base_uri": "https://localhost:8080/"
    },
    "executionInfo": {
     "elapsed": 45,
     "status": "ok",
     "timestamp": 1662651725138,
     "user": {
      "displayName": "Abhiyantraka",
      "userId": "08575671547903053425"
     },
     "user_tz": -345
    },
    "id": "gi-xpYJ2Fm7p",
    "outputId": "c95e387e-b80a-4bac-ed92-3c3d413584c8"
   },
   "outputs": [
    {
     "name": "stdout",
     "output_type": "stream",
     "text": [
      "(1007, 100)\n",
      "(1007,)\n"
     ]
    },
    {
     "data": {
      "text/plain": [
       "(None, None)"
      ]
     },
     "execution_count": 20,
     "metadata": {},
     "output_type": "execute_result"
    }
   ],
   "source": [
    "print(X_test.shape), print(ytest.shape)\n"
   ]
  },
  {
   "cell_type": "code",
   "execution_count": 21,
   "metadata": {
    "executionInfo": {
     "elapsed": 34,
     "status": "ok",
     "timestamp": 1662651725140,
     "user": {
      "displayName": "Abhiyantraka",
      "userId": "08575671547903053425"
     },
     "user_tz": -345
    },
    "id": "qnd6XTPDFpdT"
   },
   "outputs": [],
   "source": [
    "# reshape input to be [samples, time steps, features] \n",
    "X_train =X_train.reshape(X_train.shape[0],X_train.shape[1] , 1)   #shape[0]=4327, shape[1]=100 \n",
    "X_test = X_test.reshape(X_test.shape[0],X_test.shape[1] , 1)"
   ]
  },
  {
   "cell_type": "markdown",
   "metadata": {
    "id": "Czyytf1FHzV7"
   },
   "source": [
    "**Create LSTM model**"
   ]
  },
  {
   "cell_type": "code",
   "execution_count": 22,
   "metadata": {
    "executionInfo": {
     "elapsed": 33,
     "status": "ok",
     "timestamp": 1662651725141,
     "user": {
      "displayName": "Abhiyantraka",
      "userId": "08575671547903053425"
     },
     "user_tz": -345
    },
    "id": "pj7Q2kFTH3GD"
   },
   "outputs": [],
   "source": [
    "from tensorflow.keras.models import Sequential\n",
    "from tensorflow.keras.layers import Dense\n",
    "from tensorflow.keras.layers import LSTM"
   ]
  },
  {
   "cell_type": "code",
   "execution_count": 23,
   "metadata": {
    "executionInfo": {
     "elapsed": 3880,
     "status": "ok",
     "timestamp": 1662651728990,
     "user": {
      "displayName": "Abhiyantraka",
      "userId": "08575671547903053425"
     },
     "user_tz": -345
    },
    "id": "4rWvFrjIwGoe"
   },
   "outputs": [],
   "source": [
    "model=Sequential()\n",
    "model.add(LSTM(50,return_sequences=True,input_shape=(100,1)))  # input_shape= (x_train.shape[1], 1)\n",
    "model.add(LSTM(50,return_sequences=True))\n",
    "model.add(LSTM(50))\n",
    "model.add(Dense(1))\n",
    "model.compile(loss='mean_squared_error',optimizer='adam')"
   ]
  },
  {
   "cell_type": "code",
   "execution_count": 24,
   "metadata": {
    "colab": {
     "base_uri": "https://localhost:8080/"
    },
    "executionInfo": {
     "elapsed": 83,
     "status": "ok",
     "timestamp": 1662651728992,
     "user": {
      "displayName": "Abhiyantraka",
      "userId": "08575671547903053425"
     },
     "user_tz": -345
    },
    "id": "_ozj71JYp89f",
    "outputId": "fea5f840-abe5-48b7-943f-62258bf80c67"
   },
   "outputs": [
    {
     "name": "stdout",
     "output_type": "stream",
     "text": [
      "Model: \"sequential\"\n",
      "_________________________________________________________________\n",
      " Layer (type)                Output Shape              Param #   \n",
      "=================================================================\n",
      " lstm (LSTM)                 (None, 100, 50)           10400     \n",
      "                                                                 \n",
      " lstm_1 (LSTM)               (None, 100, 50)           20200     \n",
      "                                                                 \n",
      " lstm_2 (LSTM)               (None, 50)                20200     \n",
      "                                                                 \n",
      " dense (Dense)               (None, 1)                 51        \n",
      "                                                                 \n",
      "=================================================================\n",
      "Total params: 50,851\n",
      "Trainable params: 50,851\n",
      "Non-trainable params: 0\n",
      "_________________________________________________________________\n"
     ]
    }
   ],
   "source": [
    "model.summary()"
   ]
  },
  {
   "cell_type": "code",
   "execution_count": 25,
   "metadata": {
    "colab": {
     "base_uri": "https://localhost:8080/"
    },
    "executionInfo": {
     "elapsed": 146397,
     "status": "ok",
     "timestamp": 1662651875326,
     "user": {
      "displayName": "Abhiyantraka",
      "userId": "08575671547903053425"
     },
     "user_tz": -345
    },
    "id": "TPoWhhxkosej",
    "outputId": "23339731-c461-44dc-eeb5-7db197c0cd77"
   },
   "outputs": [
    {
     "name": "stdout",
     "output_type": "stream",
     "text": [
      "Epoch 1/100\n",
      "68/68 [==============================] - 11s 32ms/step - loss: 4.8777e-04 - val_loss: 0.0018\n",
      "Epoch 2/100\n",
      "68/68 [==============================] - 1s 15ms/step - loss: 1.5036e-05 - val_loss: 0.0021\n",
      "Epoch 3/100\n",
      "68/68 [==============================] - 1s 20ms/step - loss: 1.5218e-05 - val_loss: 0.0023\n",
      "Epoch 4/100\n",
      "68/68 [==============================] - 2s 22ms/step - loss: 1.4370e-05 - val_loss: 0.0035\n",
      "Epoch 5/100\n",
      "68/68 [==============================] - 1s 18ms/step - loss: 1.4452e-05 - val_loss: 0.0029\n",
      "Epoch 6/100\n",
      "68/68 [==============================] - 2s 23ms/step - loss: 1.4196e-05 - val_loss: 0.0034\n",
      "Epoch 7/100\n",
      "68/68 [==============================] - 1s 18ms/step - loss: 1.3145e-05 - val_loss: 0.0027\n",
      "Epoch 8/100\n",
      "68/68 [==============================] - 1s 15ms/step - loss: 1.3524e-05 - val_loss: 0.0021\n",
      "Epoch 9/100\n",
      "68/68 [==============================] - 1s 15ms/step - loss: 1.3397e-05 - val_loss: 0.0021\n",
      "Epoch 10/100\n",
      "68/68 [==============================] - 1s 15ms/step - loss: 1.1705e-05 - val_loss: 0.0025\n",
      "Epoch 11/100\n",
      "68/68 [==============================] - 1s 15ms/step - loss: 1.1589e-05 - val_loss: 0.0021\n",
      "Epoch 12/100\n",
      "68/68 [==============================] - 1s 15ms/step - loss: 1.1984e-05 - val_loss: 0.0020\n",
      "Epoch 13/100\n",
      "68/68 [==============================] - 1s 15ms/step - loss: 1.1171e-05 - val_loss: 0.0018\n",
      "Epoch 14/100\n",
      "68/68 [==============================] - 1s 15ms/step - loss: 1.0495e-05 - val_loss: 0.0025\n",
      "Epoch 15/100\n",
      "68/68 [==============================] - 1s 15ms/step - loss: 1.6128e-05 - val_loss: 0.0012\n",
      "Epoch 16/100\n",
      "68/68 [==============================] - 1s 15ms/step - loss: 9.7918e-06 - val_loss: 0.0026\n",
      "Epoch 17/100\n",
      "68/68 [==============================] - 1s 15ms/step - loss: 1.0621e-05 - val_loss: 0.0020\n",
      "Epoch 18/100\n",
      "68/68 [==============================] - 1s 15ms/step - loss: 9.1690e-06 - val_loss: 9.3789e-04\n",
      "Epoch 19/100\n",
      "68/68 [==============================] - 1s 15ms/step - loss: 1.0671e-05 - val_loss: 0.0018\n",
      "Epoch 20/100\n",
      "68/68 [==============================] - 1s 15ms/step - loss: 1.2295e-05 - val_loss: 0.0017\n",
      "Epoch 21/100\n",
      "68/68 [==============================] - 1s 15ms/step - loss: 9.1896e-06 - val_loss: 0.0014\n",
      "Epoch 22/100\n",
      "68/68 [==============================] - 1s 15ms/step - loss: 1.0277e-05 - val_loss: 0.0017\n",
      "Epoch 23/100\n",
      "68/68 [==============================] - 1s 19ms/step - loss: 8.5216e-06 - val_loss: 0.0011\n",
      "Epoch 24/100\n",
      "68/68 [==============================] - 1s 22ms/step - loss: 9.5802e-06 - val_loss: 0.0015\n",
      "Epoch 25/100\n",
      "68/68 [==============================] - 1s 20ms/step - loss: 7.7990e-06 - val_loss: 8.8708e-04\n",
      "Epoch 26/100\n",
      "68/68 [==============================] - 1s 15ms/step - loss: 7.7011e-06 - val_loss: 0.0013\n",
      "Epoch 27/100\n",
      "68/68 [==============================] - 1s 15ms/step - loss: 8.5669e-06 - val_loss: 0.0013\n",
      "Epoch 28/100\n",
      "68/68 [==============================] - 1s 15ms/step - loss: 7.8901e-06 - val_loss: 9.4342e-04\n",
      "Epoch 29/100\n",
      "68/68 [==============================] - 1s 15ms/step - loss: 7.3440e-06 - val_loss: 6.5594e-04\n",
      "Epoch 30/100\n",
      "68/68 [==============================] - 1s 16ms/step - loss: 7.7297e-06 - val_loss: 0.0013\n",
      "Epoch 31/100\n",
      "68/68 [==============================] - 1s 15ms/step - loss: 8.3183e-06 - val_loss: 9.4264e-04\n",
      "Epoch 32/100\n",
      "68/68 [==============================] - 1s 15ms/step - loss: 7.4291e-06 - val_loss: 0.0014\n",
      "Epoch 33/100\n",
      "68/68 [==============================] - 1s 15ms/step - loss: 9.0758e-06 - val_loss: 6.9080e-04\n",
      "Epoch 34/100\n",
      "68/68 [==============================] - 1s 15ms/step - loss: 7.4086e-06 - val_loss: 8.1051e-04\n",
      "Epoch 35/100\n",
      "68/68 [==============================] - 1s 16ms/step - loss: 6.8497e-06 - val_loss: 4.0949e-04\n",
      "Epoch 36/100\n",
      "68/68 [==============================] - 1s 15ms/step - loss: 8.0107e-06 - val_loss: 8.6115e-04\n",
      "Epoch 37/100\n",
      "68/68 [==============================] - 1s 15ms/step - loss: 7.8148e-06 - val_loss: 5.0459e-04\n",
      "Epoch 38/100\n",
      "68/68 [==============================] - 1s 15ms/step - loss: 6.7767e-06 - val_loss: 6.2218e-04\n",
      "Epoch 39/100\n",
      "68/68 [==============================] - 1s 15ms/step - loss: 7.2498e-06 - val_loss: 0.0013\n",
      "Epoch 40/100\n",
      "68/68 [==============================] - 1s 15ms/step - loss: 7.9284e-06 - val_loss: 7.3646e-04\n",
      "Epoch 41/100\n",
      "68/68 [==============================] - 1s 15ms/step - loss: 7.4404e-06 - val_loss: 9.8917e-04\n",
      "Epoch 42/100\n",
      "68/68 [==============================] - 1s 15ms/step - loss: 5.9447e-06 - val_loss: 7.3564e-04\n",
      "Epoch 43/100\n",
      "68/68 [==============================] - 1s 15ms/step - loss: 6.1092e-06 - val_loss: 5.7680e-04\n",
      "Epoch 44/100\n",
      "68/68 [==============================] - 1s 15ms/step - loss: 5.5628e-06 - val_loss: 5.2390e-04\n",
      "Epoch 45/100\n",
      "68/68 [==============================] - 1s 15ms/step - loss: 5.3697e-06 - val_loss: 6.3173e-04\n",
      "Epoch 46/100\n",
      "68/68 [==============================] - 1s 15ms/step - loss: 5.4340e-06 - val_loss: 4.7546e-04\n",
      "Epoch 47/100\n",
      "68/68 [==============================] - 1s 15ms/step - loss: 5.7954e-06 - val_loss: 4.4167e-04\n",
      "Epoch 48/100\n",
      "68/68 [==============================] - 1s 15ms/step - loss: 5.6072e-06 - val_loss: 4.9242e-04\n",
      "Epoch 49/100\n",
      "68/68 [==============================] - 1s 15ms/step - loss: 5.2434e-06 - val_loss: 3.8002e-04\n",
      "Epoch 50/100\n",
      "68/68 [==============================] - 1s 15ms/step - loss: 5.5799e-06 - val_loss: 4.2887e-04\n",
      "Epoch 51/100\n",
      "68/68 [==============================] - 1s 15ms/step - loss: 5.4024e-06 - val_loss: 6.9502e-04\n",
      "Epoch 52/100\n",
      "68/68 [==============================] - 1s 15ms/step - loss: 6.3656e-06 - val_loss: 4.9999e-04\n",
      "Epoch 53/100\n",
      "68/68 [==============================] - 1s 15ms/step - loss: 4.8752e-06 - val_loss: 5.7249e-04\n",
      "Epoch 54/100\n",
      "68/68 [==============================] - 1s 15ms/step - loss: 5.7231e-06 - val_loss: 3.5976e-04\n",
      "Epoch 55/100\n",
      "68/68 [==============================] - 1s 15ms/step - loss: 5.2160e-06 - val_loss: 2.2191e-04\n",
      "Epoch 56/100\n",
      "68/68 [==============================] - 1s 15ms/step - loss: 4.9587e-06 - val_loss: 2.4477e-04\n",
      "Epoch 57/100\n",
      "68/68 [==============================] - 1s 15ms/step - loss: 4.8350e-06 - val_loss: 2.3036e-04\n",
      "Epoch 58/100\n",
      "68/68 [==============================] - 1s 15ms/step - loss: 4.2682e-06 - val_loss: 3.9791e-04\n",
      "Epoch 59/100\n",
      "68/68 [==============================] - 1s 15ms/step - loss: 4.6711e-06 - val_loss: 3.2138e-04\n",
      "Epoch 60/100\n",
      "68/68 [==============================] - 1s 16ms/step - loss: 4.4441e-06 - val_loss: 2.8235e-04\n",
      "Epoch 61/100\n",
      "68/68 [==============================] - 1s 15ms/step - loss: 5.1181e-06 - val_loss: 5.9942e-04\n",
      "Epoch 62/100\n",
      "68/68 [==============================] - 1s 16ms/step - loss: 6.2788e-06 - val_loss: 2.2405e-04\n",
      "Epoch 63/100\n",
      "68/68 [==============================] - 1s 16ms/step - loss: 4.9139e-06 - val_loss: 3.8487e-04\n",
      "Epoch 64/100\n",
      "68/68 [==============================] - 1s 15ms/step - loss: 4.4968e-06 - val_loss: 2.3523e-04\n",
      "Epoch 65/100\n",
      "68/68 [==============================] - 1s 15ms/step - loss: 4.2864e-06 - val_loss: 2.8590e-04\n",
      "Epoch 66/100\n",
      "68/68 [==============================] - 1s 15ms/step - loss: 3.9153e-06 - val_loss: 4.1836e-04\n",
      "Epoch 67/100\n",
      "68/68 [==============================] - 1s 15ms/step - loss: 3.4466e-06 - val_loss: 2.3697e-04\n",
      "Epoch 68/100\n",
      "68/68 [==============================] - 1s 16ms/step - loss: 3.7689e-06 - val_loss: 4.0624e-04\n",
      "Epoch 69/100\n",
      "68/68 [==============================] - 1s 16ms/step - loss: 4.0075e-06 - val_loss: 3.8026e-04\n",
      "Epoch 70/100\n",
      "68/68 [==============================] - 1s 15ms/step - loss: 3.7496e-06 - val_loss: 2.8369e-04\n",
      "Epoch 71/100\n",
      "68/68 [==============================] - 1s 16ms/step - loss: 3.8323e-06 - val_loss: 1.6272e-04\n",
      "Epoch 72/100\n",
      "68/68 [==============================] - 1s 16ms/step - loss: 3.8324e-06 - val_loss: 2.8660e-04\n",
      "Epoch 73/100\n",
      "68/68 [==============================] - 1s 15ms/step - loss: 3.2973e-06 - val_loss: 3.3755e-04\n",
      "Epoch 74/100\n",
      "68/68 [==============================] - 1s 15ms/step - loss: 3.3658e-06 - val_loss: 2.3026e-04\n",
      "Epoch 75/100\n",
      "68/68 [==============================] - 1s 15ms/step - loss: 3.8757e-06 - val_loss: 2.6186e-04\n",
      "Epoch 76/100\n",
      "68/68 [==============================] - 1s 15ms/step - loss: 3.7025e-06 - val_loss: 1.4975e-04\n",
      "Epoch 77/100\n",
      "68/68 [==============================] - 1s 15ms/step - loss: 3.2504e-06 - val_loss: 1.3965e-04\n",
      "Epoch 78/100\n",
      "68/68 [==============================] - 1s 15ms/step - loss: 3.7520e-06 - val_loss: 1.3614e-04\n",
      "Epoch 79/100\n",
      "68/68 [==============================] - 1s 15ms/step - loss: 3.6759e-06 - val_loss: 1.9785e-04\n",
      "Epoch 80/100\n",
      "68/68 [==============================] - 1s 15ms/step - loss: 2.9792e-06 - val_loss: 1.4689e-04\n",
      "Epoch 81/100\n",
      "68/68 [==============================] - 1s 15ms/step - loss: 3.1077e-06 - val_loss: 1.5184e-04\n",
      "Epoch 82/100\n",
      "68/68 [==============================] - 1s 15ms/step - loss: 3.3048e-06 - val_loss: 1.7477e-04\n",
      "Epoch 83/100\n",
      "68/68 [==============================] - 1s 15ms/step - loss: 4.7275e-06 - val_loss: 1.5762e-04\n",
      "Epoch 84/100\n",
      "68/68 [==============================] - 1s 15ms/step - loss: 2.7381e-06 - val_loss: 2.0123e-04\n",
      "Epoch 85/100\n",
      "68/68 [==============================] - 1s 15ms/step - loss: 3.8437e-06 - val_loss: 1.5775e-04\n",
      "Epoch 86/100\n",
      "68/68 [==============================] - 1s 15ms/step - loss: 3.1137e-06 - val_loss: 1.9817e-04\n",
      "Epoch 87/100\n",
      "68/68 [==============================] - 1s 15ms/step - loss: 3.0687e-06 - val_loss: 1.3386e-04\n",
      "Epoch 88/100\n",
      "68/68 [==============================] - 1s 16ms/step - loss: 3.2456e-06 - val_loss: 1.8078e-04\n",
      "Epoch 89/100\n",
      "68/68 [==============================] - 1s 15ms/step - loss: 2.6702e-06 - val_loss: 2.2297e-04\n",
      "Epoch 90/100\n",
      "68/68 [==============================] - 1s 15ms/step - loss: 3.9172e-06 - val_loss: 2.6934e-04\n",
      "Epoch 91/100\n",
      "68/68 [==============================] - 1s 15ms/step - loss: 2.8679e-06 - val_loss: 1.4163e-04\n",
      "Epoch 92/100\n",
      "68/68 [==============================] - 1s 16ms/step - loss: 2.6177e-06 - val_loss: 1.9144e-04\n",
      "Epoch 93/100\n",
      "68/68 [==============================] - 1s 15ms/step - loss: 2.5409e-06 - val_loss: 1.7450e-04\n",
      "Epoch 94/100\n",
      "68/68 [==============================] - 1s 15ms/step - loss: 2.4774e-06 - val_loss: 1.2810e-04\n",
      "Epoch 95/100\n",
      "68/68 [==============================] - 1s 15ms/step - loss: 2.7693e-06 - val_loss: 1.4317e-04\n",
      "Epoch 96/100\n",
      "68/68 [==============================] - 1s 16ms/step - loss: 3.4416e-06 - val_loss: 2.5491e-04\n",
      "Epoch 97/100\n",
      "68/68 [==============================] - 1s 15ms/step - loss: 3.3987e-06 - val_loss: 1.2763e-04\n",
      "Epoch 98/100\n",
      "68/68 [==============================] - 1s 15ms/step - loss: 3.7779e-06 - val_loss: 1.1362e-04\n",
      "Epoch 99/100\n",
      "68/68 [==============================] - 1s 15ms/step - loss: 3.3665e-06 - val_loss: 1.1200e-04\n",
      "Epoch 100/100\n",
      "68/68 [==============================] - 1s 15ms/step - loss: 2.4867e-06 - val_loss: 1.6178e-04\n"
     ]
    }
   ],
   "source": [
    "#Train the model\n",
    "model.fit(X_train,y_train,validation_data=(X_test,ytest),epochs=100,batch_size=64,verbose=1)\n",
    "model.save('stock_prediction.h5')"
   ]
  },
  {
   "cell_type": "code",
   "execution_count": 26,
   "metadata": {
    "executionInfo": {
     "elapsed": 1614,
     "status": "ok",
     "timestamp": 1662651876882,
     "user": {
      "displayName": "Abhiyantraka",
      "userId": "08575671547903053425"
     },
     "user_tz": -345
    },
    "id": "szcqxHmeop1z"
   },
   "outputs": [],
   "source": [
    "### Lets Do the prediction and check performance metrics\n",
    "train_predict=model.predict(X_train)\n",
    "test_predict=model.predict(X_test)"
   ]
  },
  {
   "cell_type": "code",
   "execution_count": 27,
   "metadata": {
    "executionInfo": {
     "elapsed": 41,
     "status": "ok",
     "timestamp": 1662651876883,
     "user": {
      "displayName": "Abhiyantraka",
      "userId": "08575671547903053425"
     },
     "user_tz": -345
    },
    "id": "TEkvaU3fTkZ5"
   },
   "outputs": [],
   "source": [
    "##Transformback to original form\n",
    "train_predict=scaler.inverse_transform(train_predict)\n",
    "test_predict=scaler.inverse_transform(test_predict)"
   ]
  },
  {
   "cell_type": "code",
   "execution_count": 28,
   "metadata": {
    "colab": {
     "base_uri": "https://localhost:8080/"
    },
    "executionInfo": {
     "elapsed": 32,
     "status": "ok",
     "timestamp": 1662651876884,
     "user": {
      "displayName": "Abhiyantraka",
      "userId": "08575671547903053425"
     },
     "user_tz": -345
    },
    "id": "WNO7MnJfTmcl",
    "outputId": "06f10836-4996-4de2-a1dd-d99353b48839"
   },
   "outputs": [
    {
     "data": {
      "text/plain": [
       "14.951331604183652"
      ]
     },
     "execution_count": 28,
     "metadata": {},
     "output_type": "execute_result"
    }
   ],
   "source": [
    "### Calculate RMSE performance metrics\n",
    "import math\n",
    "from sklearn.metrics import mean_squared_error\n",
    "math.sqrt(mean_squared_error(y_train,train_predict))\n"
   ]
  },
  {
   "cell_type": "code",
   "execution_count": 29,
   "metadata": {
    "colab": {
     "base_uri": "https://localhost:8080/"
    },
    "executionInfo": {
     "elapsed": 27,
     "status": "ok",
     "timestamp": 1662651876885,
     "user": {
      "displayName": "Abhiyantraka",
      "userId": "08575671547903053425"
     },
     "user_tz": -345
    },
    "id": "m0tnd2A8Trev",
    "outputId": "de136697-5d21-4219-a31b-5b7073ac0931"
   },
   "outputs": [
    {
     "data": {
      "text/plain": [
       "91.22814317009325"
      ]
     },
     "execution_count": 29,
     "metadata": {},
     "output_type": "execute_result"
    }
   ],
   "source": [
    "### Test Data RMSE\n",
    "math.sqrt(mean_squared_error(ytest,test_predict))"
   ]
  },
  {
   "cell_type": "code",
   "execution_count": 30,
   "metadata": {
    "executionInfo": {
     "elapsed": 19,
     "status": "ok",
     "timestamp": 1662651876886,
     "user": {
      "displayName": "Abhiyantraka",
      "userId": "08575671547903053425"
     },
     "user_tz": -345
    },
    "id": "_BtHcWO2wYbW"
   },
   "outputs": [],
   "source": [
    "### Plotting \n",
    "import numpy as np\n",
    "look_back=100\n",
    "trainPredictPlot = np.empty_like(df1)\n",
    "trainPredictPlot[:, :] = np.nan\n",
    "trainPredictPlot[look_back:len(train_predict)+look_back, :] = train_predict\n"
   ]
  },
  {
   "cell_type": "code",
   "execution_count": 31,
   "metadata": {
    "executionInfo": {
     "elapsed": 19,
     "status": "ok",
     "timestamp": 1662651876887,
     "user": {
      "displayName": "Abhiyantraka",
      "userId": "08575671547903053425"
     },
     "user_tz": -345
    },
    "id": "tTpr6JUjwlRT"
   },
   "outputs": [],
   "source": [
    "# shift test predictions for plotting\n",
    "testPredictPlot = np.empty_like(df1)\n",
    "testPredictPlot[:, :] = np.nan\n",
    "testPredictPlot[len(train_predict)+(look_back*2)+1:len(df1)-1, :] = test_predict"
   ]
  },
  {
   "cell_type": "code",
   "execution_count": 32,
   "metadata": {
    "colab": {
     "base_uri": "https://localhost:8080/",
     "height": 282
    },
    "executionInfo": {
     "elapsed": 1524,
     "status": "ok",
     "timestamp": 1662651878394,
     "user": {
      "displayName": "Abhiyantraka",
      "userId": "08575671547903053425"
     },
     "user_tz": -345
    },
    "id": "1Mw8tUxxwmzD",
    "outputId": "36ec7514-79f3-4e08-a9fb-b23e47e95e25"
   },
   "outputs": [
    {
     "data": {
      "text/plain": [
       "[<matplotlib.lines.Line2D at 0x7f71713ed4d0>]"
      ]
     },
     "execution_count": 32,
     "metadata": {},
     "output_type": "execute_result"
    },
    {
     "data": {
      "image/png": "[encoded data removed]",
      "text/plain": [
       "<Figure size 432x288 with 1 Axes>"
      ]
     },
     "metadata": {
      "needs_background": "light"
     },
     "output_type": "display_data"
    }
   ],
   "source": [
    "# plot baseline and predictions\n",
    "plt.plot(scaler.inverse_transform(df1))\n",
    "plt.plot(trainPredictPlot)"
   ]
  },
  {
   "cell_type": "code",
   "execution_count": 33,
   "metadata": {
    "colab": {
     "base_uri": "https://localhost:8080/",
     "height": 265
    },
    "executionInfo": {
     "elapsed": 113,
     "status": "ok",
     "timestamp": 1662651878399,
     "user": {
      "displayName": "Abhiyantraka",
      "userId": "08575671547903053425"
     },
     "user_tz": -345
    },
    "id": "2JXBlqyMwuVI",
    "outputId": "5fefd1e9-c0c4-46de-dbec-19f8d2f87177"
   },
   "outputs": [
    {
     "data": {
      "image/png": "[encoded data removed]",
      "text/plain": [
       "<Figure size 432x288 with 1 Axes>"
      ]
     },
     "metadata": {
      "needs_background": "light"
     },
     "output_type": "display_data"
    }
   ],
   "source": [
    "plt.plot(testPredictPlot)\n",
    "plt.show()"
   ]
  },
  {
   "cell_type": "code",
   "execution_count": 34,
   "metadata": {
    "executionInfo": {
     "elapsed": 110,
     "status": "ok",
     "timestamp": 1662651878402,
     "user": {
      "displayName": "Abhiyantraka",
      "userId": "08575671547903053425"
     },
     "user_tz": -345
    },
    "id": "eYDBpajUTy3o"
   },
   "outputs": [],
   "source": [
    "# ### Plotting \n",
    "# look_back=100    #timestamps dieako\n",
    "# trainPredictPlot = np.empty_like(df1)\n",
    "# trainPredictPlot[:, :] = np.nan\n",
    "# trainPredictPlot[look_back:len(train_predict)+look_back, :] = train_predict\n",
    "\n"
   ]
  },
  {
   "cell_type": "code",
   "execution_count": 35,
   "metadata": {
    "executionInfo": {
     "elapsed": 113,
     "status": "ok",
     "timestamp": 1662651878410,
     "user": {
      "displayName": "Abhiyantraka",
      "userId": "08575671547903053425"
     },
     "user_tz": -345
    },
    "id": "ayChK0MIolW9"
   },
   "outputs": [],
   "source": [
    "# # shift test predictions for plotting\n",
    "# testPredictPlot = np.empty_like(df1)\n",
    "# testPredictPlot[:, :] = np.nan\n",
    "# testPredictPlot[len(train_predict)+(look_back*2)+1:len(df1)-1, :] = test_predict"
   ]
  },
  {
   "cell_type": "code",
   "execution_count": 36,
   "metadata": {
    "executionInfo": {
     "elapsed": 111,
     "status": "ok",
     "timestamp": 1662651878412,
     "user": {
      "displayName": "Abhiyantraka",
      "userId": "08575671547903053425"
     },
     "user_tz": -345
    },
    "id": "vv9gd4v1oaYf"
   },
   "outputs": [],
   "source": [
    "# # plot baseline and predictions\n",
    "# plt.plot(scaler.inverse_transform(df1)\n",
    "# plt.plot(trainPredictPlot)\n",
    "# plt.show()"
   ]
  },
  {
   "cell_type": "code",
   "execution_count": 39,
   "metadata": {
    "colab": {
     "base_uri": "https://localhost:8080/"
    },
    "executionInfo": {
     "elapsed": 597,
     "status": "ok",
     "timestamp": 1662652096793,
     "user": {
      "displayName": "Abhiyantraka",
      "userId": "08575671547903053425"
     },
     "user_tz": -345
    },
    "id": "5cQwxsF-UthD",
    "outputId": "1bec642a-b964-45a8-bfc0-f72e29ba1a92"
   },
   "outputs": [
    {
     "data": {
      "text/plain": [
       "1108"
      ]
     },
     "execution_count": 39,
     "metadata": {},
     "output_type": "execute_result"
    }
   ],
   "source": [
    "len(test_data)\n"
   ]
  },
  {
   "cell_type": "code",
   "execution_count": 44,
   "metadata": {
    "colab": {
     "base_uri": "https://localhost:8080/"
    },
    "executionInfo": {
     "elapsed": 847,
     "status": "ok",
     "timestamp": 1662653384595,
     "user": {
      "displayName": "Abhiyantraka",
      "userId": "08575671547903053425"
     },
     "user_tz": -345
    },
    "id": "CLABD2fdyZfd",
    "outputId": "fecb9772-f41c-4e4c-cfb3-4a05ff5645c8"
   },
   "outputs": [
    {
     "data": {
      "text/plain": [
       "(1, 100)"
      ]
     },
     "execution_count": 44,
     "metadata": {},
     "output_type": "execute_result"
    }
   ],
   "source": [
    "x_input=test_data[1008:].reshape(1,-1)    #taking previous 100 day data \n",
    "x_input.shape"
   ]
  },
  {
   "cell_type": "code",
   "execution_count": null,
   "metadata": {
    "id": "NwmfL51r3UGs"
   },
   "outputs": [],
   "source": []
  },
  {
   "cell_type": "code",
   "execution_count": 45,
   "metadata": {
    "executionInfo": {
     "elapsed": 571,
     "status": "ok",
     "timestamp": 1662653568154,
     "user": {
      "displayName": "Abhiyantraka",
      "userId": "08575671547903053425"
     },
     "user_tz": -345
    },
    "id": "oWGBjYquz2sx"
   },
   "outputs": [],
   "source": [
    "temp_input=list(x_input)\n",
    "temp_input=temp_input[0].tolist()"
   ]
  },
  {
   "cell_type": "code",
   "execution_count": 46,
   "metadata": {
    "colab": {
     "base_uri": "https://localhost:8080/"
    },
    "executionInfo": {
     "elapsed": 585,
     "status": "ok",
     "timestamp": 1662653571294,
     "user": {
      "displayName": "Abhiyantraka",
      "userId": "08575671547903053425"
     },
     "user_tz": -345
    },
    "id": "NxmcPPU9z4dY",
    "outputId": "b34e1990-d6d3-4866-e82d-33b62e9b8dc2"
   },
   "outputs": [
    {
     "data": {
      "text/plain": [
       "[0.8086017715157645,\n",
       " 0.8254261472827038,\n",
       " 0.8265922327658255,\n",
       " 0.8378084296019568,\n",
       " 0.8326445477470436,\n",
       " 0.8113780729798149,\n",
       " 0.8132659357649573,\n",
       " 0.8215393418908421,\n",
       " 0.8299793261045698,\n",
       " 0.8294795252098056,\n",
       " 0.8224832788360164,\n",
       " 0.8179301000141503,\n",
       " 0.8238159313017752,\n",
       " 0.8489136354581582,\n",
       " 0.8417508165491289,\n",
       " 0.8455265476720168,\n",
       " 0.8518565094574487,\n",
       " 0.8554657513341406,\n",
       " 0.8687364667796984,\n",
       " 0.8599633486006963,\n",
       " 0.8541886748710892,\n",
       " 0.8258703666221577,\n",
       " 0.8290908874256621,\n",
       " 0.8211506208176544,\n",
       " 0.826203511692638,\n",
       " 0.8248708536742763,\n",
       " 0.8097122754435758,\n",
       " 0.7923881765183132,\n",
       " 0.7951089019796562,\n",
       " 0.8085462732494981,\n",
       " 0.8139878019086252,\n",
       " 0.8144875139617425,\n",
       " 0.8058809627653775,\n",
       " 0.7866690066075752,\n",
       " 0.7917773901962222,\n",
       " 0.7843924171966423,\n",
       " 0.7907778772483405,\n",
       " 0.7712882687337216,\n",
       " 0.782226907607286,\n",
       " 0.7871687186606926,\n",
       " 0.7943315375697222,\n",
       " 0.7921660279803657,\n",
       " 0.7916663159272485,\n",
       " 0.7844479154629087,\n",
       " 0.7811164036794744,\n",
       " 0.7969412720511353,\n",
       " 0.8029380887660871,\n",
       " 0.8124330786413598,\n",
       " 0.8247042866916391,\n",
       " 0.8274805881556895,\n",
       " 0.8287021663524745,\n",
       " 0.8243156433548925,\n",
       " 0.8240379965506786,\n",
       " 0.8278138109626106,\n",
       " 0.8252040820338004,\n",
       " 0.845859770478938,\n",
       " 0.8304790381576873,\n",
       " 0.8258148739084943,\n",
       " 0.8317006163544723,\n",
       " 0.8398629482113833,\n",
       " 0.8369200797646957,\n",
       " 0.8386968682808646,\n",
       " 0.8340326984790687,\n",
       " 0.8360871393520544,\n",
       " 0.8200401168898431,\n",
       " 0.8197624700856293,\n",
       " 0.8315340438192322,\n",
       " 0.8315895420854986,\n",
       " 0.8371421450135993,\n",
       " 0.8509681540675849,\n",
       " 0.8752884993666368,\n",
       " 0.8901695196347702,\n",
       " 0.8927792485635805,\n",
       " 0.8949447637055398,\n",
       " 0.8978876321522273,\n",
       " 0.8694027569206588,\n",
       " 0.8884482238322648,\n",
       " 0.9165443835432487,\n",
       " 0.9136015095439584,\n",
       " 0.9079933306131502,\n",
       " 0.8973323385437998,\n",
       " 0.9166554578122225,\n",
       " 0.9491936332344518,\n",
       " 0.9708488346274712,\n",
       " 0.9679614588944471,\n",
       " 0.9951136816602567,\n",
       " 0.9745135692178264,\n",
       " 0.9666843824313957,\n",
       " 0.9942808245366592,\n",
       " 0.9551904555020065,\n",
       " 0.9489715624329453,\n",
       " 0.9412534499154883,\n",
       " 0.9592439111655493,\n",
       " 0.9739582756093987,\n",
       " 0.9775119414833833,\n",
       " 1.0,\n",
       " 0.994225242981349,\n",
       " 0.9947250438761132,\n",
       " 0.9881729280001308,\n",
       " 0.9846748436814566]"
      ]
     },
     "execution_count": 46,
     "metadata": {},
     "output_type": "execute_result"
    }
   ],
   "source": [
    "temp_input\n"
   ]
  },
  {
   "cell_type": "code",
   "execution_count": 47,
   "metadata": {
    "colab": {
     "base_uri": "https://localhost:8080/"
    },
    "executionInfo": {
     "elapsed": 1879,
     "status": "ok",
     "timestamp": 1662653580223,
     "user": {
      "displayName": "Abhiyantraka",
      "userId": "08575671547903053425"
     },
     "user_tz": -345
    },
    "id": "R7-CA3rzz_hg",
    "outputId": "3230ead0-9362-4789-9759-8c2951c4de7c"
   },
   "outputs": [
    {
     "name": "stdout",
     "output_type": "stream",
     "text": [
      "[0.9584253]\n",
      "101\n",
      "1 day input [0.82542615 0.82659223 0.83780843 0.83264455 0.81137807 0.81326594\n",
      " 0.82153934 0.82997933 0.82947953 0.82248328 0.8179301  0.82381593\n",
      " 0.84891364 0.84175082 0.84552655 0.85185651 0.85546575 0.86873647\n",
      " 0.85996335 0.85418867 0.82587037 0.82909089 0.82115062 0.82620351\n",
      " 0.82487085 0.80971228 0.79238818 0.7951089  0.80854627 0.8139878\n",
      " 0.81448751 0.80588096 0.78666901 0.79177739 0.78439242 0.79077788\n",
      " 0.77128827 0.78222691 0.78716872 0.79433154 0.79216603 0.79166632\n",
      " 0.78444792 0.7811164  0.79694127 0.80293809 0.81243308 0.82470429\n",
      " 0.82748059 0.82870217 0.82431564 0.824038   0.82781381 0.82520408\n",
      " 0.84585977 0.83047904 0.82581487 0.83170062 0.83986295 0.83692008\n",
      " 0.83869687 0.8340327  0.83608714 0.82004012 0.81976247 0.83153404\n",
      " 0.83158954 0.83714215 0.85096815 0.8752885  0.89016952 0.89277925\n",
      " 0.89494476 0.89788763 0.86940276 0.88844822 0.91654438 0.91360151\n",
      " 0.90799333 0.89733234 0.91665546 0.94919363 0.97084883 0.96796146\n",
      " 0.99511368 0.97451357 0.96668438 0.99428082 0.95519046 0.94897156\n",
      " 0.94125345 0.95924391 0.97395828 0.97751194 1.         0.99422524\n",
      " 0.99472504 0.98817293 0.98467484 0.95842528]\n",
      "1 day output [[0.9352273]]\n",
      "2 day input [0.82659223 0.83780843 0.83264455 0.81137807 0.81326594 0.82153934\n",
      " 0.82997933 0.82947953 0.82248328 0.8179301  0.82381593 0.84891364\n",
      " 0.84175082 0.84552655 0.85185651 0.85546575 0.86873647 0.85996335\n",
      " 0.85418867 0.82587037 0.82909089 0.82115062 0.82620351 0.82487085\n",
      " 0.80971228 0.79238818 0.7951089  0.80854627 0.8139878  0.81448751\n",
      " 0.80588096 0.78666901 0.79177739 0.78439242 0.79077788 0.77128827\n",
      " 0.78222691 0.78716872 0.79433154 0.79216603 0.79166632 0.78444792\n",
      " 0.7811164  0.79694127 0.80293809 0.81243308 0.82470429 0.82748059\n",
      " 0.82870217 0.82431564 0.824038   0.82781381 0.82520408 0.84585977\n",
      " 0.83047904 0.82581487 0.83170062 0.83986295 0.83692008 0.83869687\n",
      " 0.8340327  0.83608714 0.82004012 0.81976247 0.83153404 0.83158954\n",
      " 0.83714215 0.85096815 0.8752885  0.89016952 0.89277925 0.89494476\n",
      " 0.89788763 0.86940276 0.88844822 0.91654438 0.91360151 0.90799333\n",
      " 0.89733234 0.91665546 0.94919363 0.97084883 0.96796146 0.99511368\n",
      " 0.97451357 0.96668438 0.99428082 0.95519046 0.94897156 0.94125345\n",
      " 0.95924391 0.97395828 0.97751194 1.         0.99422524 0.99472504\n",
      " 0.98817293 0.98467484 0.95842528 0.93522727]\n",
      "2 day output [[0.90948224]]\n",
      "3 day input [0.83780843 0.83264455 0.81137807 0.81326594 0.82153934 0.82997933\n",
      " 0.82947953 0.82248328 0.8179301  0.82381593 0.84891364 0.84175082\n",
      " 0.84552655 0.85185651 0.85546575 0.86873647 0.85996335 0.85418867\n",
      " 0.82587037 0.82909089 0.82115062 0.82620351 0.82487085 0.80971228\n",
      " 0.79238818 0.7951089  0.80854627 0.8139878  0.81448751 0.80588096\n",
      " 0.78666901 0.79177739 0.78439242 0.79077788 0.77128827 0.78222691\n",
      " 0.78716872 0.79433154 0.79216603 0.79166632 0.78444792 0.7811164\n",
      " 0.79694127 0.80293809 0.81243308 0.82470429 0.82748059 0.82870217\n",
      " 0.82431564 0.824038   0.82781381 0.82520408 0.84585977 0.83047904\n",
      " 0.82581487 0.83170062 0.83986295 0.83692008 0.83869687 0.8340327\n",
      " 0.83608714 0.82004012 0.81976247 0.83153404 0.83158954 0.83714215\n",
      " 0.85096815 0.8752885  0.89016952 0.89277925 0.89494476 0.89788763\n",
      " 0.86940276 0.88844822 0.91654438 0.91360151 0.90799333 0.89733234\n",
      " 0.91665546 0.94919363 0.97084883 0.96796146 0.99511368 0.97451357\n",
      " 0.96668438 0.99428082 0.95519046 0.94897156 0.94125345 0.95924391\n",
      " 0.97395828 0.97751194 1.         0.99422524 0.99472504 0.98817293\n",
      " 0.98467484 0.95842528 0.93522727 0.90948224]\n",
      "3 day output [[0.88384616]]\n",
      "4 day input [0.83264455 0.81137807 0.81326594 0.82153934 0.82997933 0.82947953\n",
      " 0.82248328 0.8179301  0.82381593 0.84891364 0.84175082 0.84552655\n",
      " 0.85185651 0.85546575 0.86873647 0.85996335 0.85418867 0.82587037\n",
      " 0.82909089 0.82115062 0.82620351 0.82487085 0.80971228 0.79238818\n",
      " 0.7951089  0.80854627 0.8139878  0.81448751 0.80588096 0.78666901\n",
      " 0.79177739 0.78439242 0.79077788 0.77128827 0.78222691 0.78716872\n",
      " 0.79433154 0.79216603 0.79166632 0.78444792 0.7811164  0.79694127\n",
      " 0.80293809 0.81243308 0.82470429 0.82748059 0.82870217 0.82431564\n",
      " 0.824038   0.82781381 0.82520408 0.84585977 0.83047904 0.82581487\n",
      " 0.83170062 0.83986295 0.83692008 0.83869687 0.8340327  0.83608714\n",
      " 0.82004012 0.81976247 0.83153404 0.83158954 0.83714215 0.85096815\n",
      " 0.8752885  0.89016952 0.89277925 0.89494476 0.89788763 0.86940276\n",
      " 0.88844822 0.91654438 0.91360151 0.90799333 0.89733234 0.91665546\n",
      " 0.94919363 0.97084883 0.96796146 0.99511368 0.97451357 0.96668438\n",
      " 0.99428082 0.95519046 0.94897156 0.94125345 0.95924391 0.97395828\n",
      " 0.97751194 1.         0.99422524 0.99472504 0.98817293 0.98467484\n",
      " 0.95842528 0.93522727 0.90948224 0.88384616]\n",
      "4 day output [[0.8592167]]\n",
      "5 day input [0.81137807 0.81326594 0.82153934 0.82997933 0.82947953 0.82248328\n",
      " 0.8179301  0.82381593 0.84891364 0.84175082 0.84552655 0.85185651\n",
      " 0.85546575 0.86873647 0.85996335 0.85418867 0.82587037 0.82909089\n",
      " 0.82115062 0.82620351 0.82487085 0.80971228 0.79238818 0.7951089\n",
      " 0.80854627 0.8139878  0.81448751 0.80588096 0.78666901 0.79177739\n",
      " 0.78439242 0.79077788 0.77128827 0.78222691 0.78716872 0.79433154\n",
      " 0.79216603 0.79166632 0.78444792 0.7811164  0.79694127 0.80293809\n",
      " 0.81243308 0.82470429 0.82748059 0.82870217 0.82431564 0.824038\n",
      " 0.82781381 0.82520408 0.84585977 0.83047904 0.82581487 0.83170062\n",
      " 0.83986295 0.83692008 0.83869687 0.8340327  0.83608714 0.82004012\n",
      " 0.81976247 0.83153404 0.83158954 0.83714215 0.85096815 0.8752885\n",
      " 0.89016952 0.89277925 0.89494476 0.89788763 0.86940276 0.88844822\n",
      " 0.91654438 0.91360151 0.90799333 0.89733234 0.91665546 0.94919363\n",
      " 0.97084883 0.96796146 0.99511368 0.97451357 0.96668438 0.99428082\n",
      " 0.95519046 0.94897156 0.94125345 0.95924391 0.97395828 0.97751194\n",
      " 1.         0.99422524 0.99472504 0.98817293 0.98467484 0.95842528\n",
      " 0.93522727 0.90948224 0.88384616 0.85921669]\n",
      "5 day output [[0.83587253]]\n",
      "6 day input [0.81326594 0.82153934 0.82997933 0.82947953 0.82248328 0.8179301\n",
      " 0.82381593 0.84891364 0.84175082 0.84552655 0.85185651 0.85546575\n",
      " 0.86873647 0.85996335 0.85418867 0.82587037 0.82909089 0.82115062\n",
      " 0.82620351 0.82487085 0.80971228 0.79238818 0.7951089  0.80854627\n",
      " 0.8139878  0.81448751 0.80588096 0.78666901 0.79177739 0.78439242\n",
      " 0.79077788 0.77128827 0.78222691 0.78716872 0.79433154 0.79216603\n",
      " 0.79166632 0.78444792 0.7811164  0.79694127 0.80293809 0.81243308\n",
      " 0.82470429 0.82748059 0.82870217 0.82431564 0.824038   0.82781381\n",
      " 0.82520408 0.84585977 0.83047904 0.82581487 0.83170062 0.83986295\n",
      " 0.83692008 0.83869687 0.8340327  0.83608714 0.82004012 0.81976247\n",
      " 0.83153404 0.83158954 0.83714215 0.85096815 0.8752885  0.89016952\n",
      " 0.89277925 0.89494476 0.89788763 0.86940276 0.88844822 0.91654438\n",
      " 0.91360151 0.90799333 0.89733234 0.91665546 0.94919363 0.97084883\n",
      " 0.96796146 0.99511368 0.97451357 0.96668438 0.99428082 0.95519046\n",
      " 0.94897156 0.94125345 0.95924391 0.97395828 0.97751194 1.\n",
      " 0.99422524 0.99472504 0.98817293 0.98467484 0.95842528 0.93522727\n",
      " 0.90948224 0.88384616 0.85921669 0.83587253]\n",
      "6 day output [[0.8136314]]\n",
      "7 day input [0.82153934 0.82997933 0.82947953 0.82248328 0.8179301  0.82381593\n",
      " 0.84891364 0.84175082 0.84552655 0.85185651 0.85546575 0.86873647\n",
      " 0.85996335 0.85418867 0.82587037 0.82909089 0.82115062 0.82620351\n",
      " 0.82487085 0.80971228 0.79238818 0.7951089  0.80854627 0.8139878\n",
      " 0.81448751 0.80588096 0.78666901 0.79177739 0.78439242 0.79077788\n",
      " 0.77128827 0.78222691 0.78716872 0.79433154 0.79216603 0.79166632\n",
      " 0.78444792 0.7811164  0.79694127 0.80293809 0.81243308 0.82470429\n",
      " 0.82748059 0.82870217 0.82431564 0.824038   0.82781381 0.82520408\n",
      " 0.84585977 0.83047904 0.82581487 0.83170062 0.83986295 0.83692008\n",
      " 0.83869687 0.8340327  0.83608714 0.82004012 0.81976247 0.83153404\n",
      " 0.83158954 0.83714215 0.85096815 0.8752885  0.89016952 0.89277925\n",
      " 0.89494476 0.89788763 0.86940276 0.88844822 0.91654438 0.91360151\n",
      " 0.90799333 0.89733234 0.91665546 0.94919363 0.97084883 0.96796146\n",
      " 0.99511368 0.97451357 0.96668438 0.99428082 0.95519046 0.94897156\n",
      " 0.94125345 0.95924391 0.97395828 0.97751194 1.         0.99422524\n",
      " 0.99472504 0.98817293 0.98467484 0.95842528 0.93522727 0.90948224\n",
      " 0.88384616 0.85921669 0.83587253 0.81363142]\n",
      "7 day output [[0.79206395]]\n",
      "8 day input [0.82997933 0.82947953 0.82248328 0.8179301  0.82381593 0.84891364\n",
      " 0.84175082 0.84552655 0.85185651 0.85546575 0.86873647 0.85996335\n",
      " 0.85418867 0.82587037 0.82909089 0.82115062 0.82620351 0.82487085\n",
      " 0.80971228 0.79238818 0.7951089  0.80854627 0.8139878  0.81448751\n",
      " 0.80588096 0.78666901 0.79177739 0.78439242 0.79077788 0.77128827\n",
      " 0.78222691 0.78716872 0.79433154 0.79216603 0.79166632 0.78444792\n",
      " 0.7811164  0.79694127 0.80293809 0.81243308 0.82470429 0.82748059\n",
      " 0.82870217 0.82431564 0.824038   0.82781381 0.82520408 0.84585977\n",
      " 0.83047904 0.82581487 0.83170062 0.83986295 0.83692008 0.83869687\n",
      " 0.8340327  0.83608714 0.82004012 0.81976247 0.83153404 0.83158954\n",
      " 0.83714215 0.85096815 0.8752885  0.89016952 0.89277925 0.89494476\n",
      " 0.89788763 0.86940276 0.88844822 0.91654438 0.91360151 0.90799333\n",
      " 0.89733234 0.91665546 0.94919363 0.97084883 0.96796146 0.99511368\n",
      " 0.97451357 0.96668438 0.99428082 0.95519046 0.94897156 0.94125345\n",
      " 0.95924391 0.97395828 0.97751194 1.         0.99422524 0.99472504\n",
      " 0.98817293 0.98467484 0.95842528 0.93522727 0.90948224 0.88384616\n",
      " 0.85921669 0.83587253 0.81363142 0.79206395]\n",
      "8 day output [[0.77069175]]\n",
      "9 day input [0.82947953 0.82248328 0.8179301  0.82381593 0.84891364 0.84175082\n",
      " 0.84552655 0.85185651 0.85546575 0.86873647 0.85996335 0.85418867\n",
      " 0.82587037 0.82909089 0.82115062 0.82620351 0.82487085 0.80971228\n",
      " 0.79238818 0.7951089  0.80854627 0.8139878  0.81448751 0.80588096\n",
      " 0.78666901 0.79177739 0.78439242 0.79077788 0.77128827 0.78222691\n",
      " 0.78716872 0.79433154 0.79216603 0.79166632 0.78444792 0.7811164\n",
      " 0.79694127 0.80293809 0.81243308 0.82470429 0.82748059 0.82870217\n",
      " 0.82431564 0.824038   0.82781381 0.82520408 0.84585977 0.83047904\n",
      " 0.82581487 0.83170062 0.83986295 0.83692008 0.83869687 0.8340327\n",
      " 0.83608714 0.82004012 0.81976247 0.83153404 0.83158954 0.83714215\n",
      " 0.85096815 0.8752885  0.89016952 0.89277925 0.89494476 0.89788763\n",
      " 0.86940276 0.88844822 0.91654438 0.91360151 0.90799333 0.89733234\n",
      " 0.91665546 0.94919363 0.97084883 0.96796146 0.99511368 0.97451357\n",
      " 0.96668438 0.99428082 0.95519046 0.94897156 0.94125345 0.95924391\n",
      " 0.97395828 0.97751194 1.         0.99422524 0.99472504 0.98817293\n",
      " 0.98467484 0.95842528 0.93522727 0.90948224 0.88384616 0.85921669\n",
      " 0.83587253 0.81363142 0.79206395 0.77069175]\n",
      "9 day output [[0.74913204]]\n",
      "10 day input [0.82248328 0.8179301  0.82381593 0.84891364 0.84175082 0.84552655\n",
      " 0.85185651 0.85546575 0.86873647 0.85996335 0.85418867 0.82587037\n",
      " 0.82909089 0.82115062 0.82620351 0.82487085 0.80971228 0.79238818\n",
      " 0.7951089  0.80854627 0.8139878  0.81448751 0.80588096 0.78666901\n",
      " 0.79177739 0.78439242 0.79077788 0.77128827 0.78222691 0.78716872\n",
      " 0.79433154 0.79216603 0.79166632 0.78444792 0.7811164  0.79694127\n",
      " 0.80293809 0.81243308 0.82470429 0.82748059 0.82870217 0.82431564\n",
      " 0.824038   0.82781381 0.82520408 0.84585977 0.83047904 0.82581487\n",
      " 0.83170062 0.83986295 0.83692008 0.83869687 0.8340327  0.83608714\n",
      " 0.82004012 0.81976247 0.83153404 0.83158954 0.83714215 0.85096815\n",
      " 0.8752885  0.89016952 0.89277925 0.89494476 0.89788763 0.86940276\n",
      " 0.88844822 0.91654438 0.91360151 0.90799333 0.89733234 0.91665546\n",
      " 0.94919363 0.97084883 0.96796146 0.99511368 0.97451357 0.96668438\n",
      " 0.99428082 0.95519046 0.94897156 0.94125345 0.95924391 0.97395828\n",
      " 0.97751194 1.         0.99422524 0.99472504 0.98817293 0.98467484\n",
      " 0.95842528 0.93522727 0.90948224 0.88384616 0.85921669 0.83587253\n",
      " 0.81363142 0.79206395 0.77069175 0.74913204]\n",
      "10 day output [[0.7271726]]\n",
      "11 day input [0.8179301  0.82381593 0.84891364 0.84175082 0.84552655 0.85185651\n",
      " 0.85546575 0.86873647 0.85996335 0.85418867 0.82587037 0.82909089\n",
      " 0.82115062 0.82620351 0.82487085 0.80971228 0.79238818 0.7951089\n",
      " 0.80854627 0.8139878  0.81448751 0.80588096 0.78666901 0.79177739\n",
      " 0.78439242 0.79077788 0.77128827 0.78222691 0.78716872 0.79433154\n",
      " 0.79216603 0.79166632 0.78444792 0.7811164  0.79694127 0.80293809\n",
      " 0.81243308 0.82470429 0.82748059 0.82870217 0.82431564 0.824038\n",
      " 0.82781381 0.82520408 0.84585977 0.83047904 0.82581487 0.83170062\n",
      " 0.83986295 0.83692008 0.83869687 0.8340327  0.83608714 0.82004012\n",
      " 0.81976247 0.83153404 0.83158954 0.83714215 0.85096815 0.8752885\n",
      " 0.89016952 0.89277925 0.89494476 0.89788763 0.86940276 0.88844822\n",
      " 0.91654438 0.91360151 0.90799333 0.89733234 0.91665546 0.94919363\n",
      " 0.97084883 0.96796146 0.99511368 0.97451357 0.96668438 0.99428082\n",
      " 0.95519046 0.94897156 0.94125345 0.95924391 0.97395828 0.97751194\n",
      " 1.         0.99422524 0.99472504 0.98817293 0.98467484 0.95842528\n",
      " 0.93522727 0.90948224 0.88384616 0.85921669 0.83587253 0.81363142\n",
      " 0.79206395 0.77069175 0.74913204 0.72717261]\n",
      "11 day output [[0.7047876]]\n",
      "12 day input [0.82381593 0.84891364 0.84175082 0.84552655 0.85185651 0.85546575\n",
      " 0.86873647 0.85996335 0.85418867 0.82587037 0.82909089 0.82115062\n",
      " 0.82620351 0.82487085 0.80971228 0.79238818 0.7951089  0.80854627\n",
      " 0.8139878  0.81448751 0.80588096 0.78666901 0.79177739 0.78439242\n",
      " 0.79077788 0.77128827 0.78222691 0.78716872 0.79433154 0.79216603\n",
      " 0.79166632 0.78444792 0.7811164  0.79694127 0.80293809 0.81243308\n",
      " 0.82470429 0.82748059 0.82870217 0.82431564 0.824038   0.82781381\n",
      " 0.82520408 0.84585977 0.83047904 0.82581487 0.83170062 0.83986295\n",
      " 0.83692008 0.83869687 0.8340327  0.83608714 0.82004012 0.81976247\n",
      " 0.83153404 0.83158954 0.83714215 0.85096815 0.8752885  0.89016952\n",
      " 0.89277925 0.89494476 0.89788763 0.86940276 0.88844822 0.91654438\n",
      " 0.91360151 0.90799333 0.89733234 0.91665546 0.94919363 0.97084883\n",
      " 0.96796146 0.99511368 0.97451357 0.96668438 0.99428082 0.95519046\n",
      " 0.94897156 0.94125345 0.95924391 0.97395828 0.97751194 1.\n",
      " 0.99422524 0.99472504 0.98817293 0.98467484 0.95842528 0.93522727\n",
      " 0.90948224 0.88384616 0.85921669 0.83587253 0.81363142 0.79206395\n",
      " 0.77069175 0.74913204 0.72717261 0.70478761]\n",
      "12 day output [[0.682109]]\n",
      "13 day input [0.84891364 0.84175082 0.84552655 0.85185651 0.85546575 0.86873647\n",
      " 0.85996335 0.85418867 0.82587037 0.82909089 0.82115062 0.82620351\n",
      " 0.82487085 0.80971228 0.79238818 0.7951089  0.80854627 0.8139878\n",
      " 0.81448751 0.80588096 0.78666901 0.79177739 0.78439242 0.79077788\n",
      " 0.77128827 0.78222691 0.78716872 0.79433154 0.79216603 0.79166632\n",
      " 0.78444792 0.7811164  0.79694127 0.80293809 0.81243308 0.82470429\n",
      " 0.82748059 0.82870217 0.82431564 0.824038   0.82781381 0.82520408\n",
      " 0.84585977 0.83047904 0.82581487 0.83170062 0.83986295 0.83692008\n",
      " 0.83869687 0.8340327  0.83608714 0.82004012 0.81976247 0.83153404\n",
      " 0.83158954 0.83714215 0.85096815 0.8752885  0.89016952 0.89277925\n",
      " 0.89494476 0.89788763 0.86940276 0.88844822 0.91654438 0.91360151\n",
      " 0.90799333 0.89733234 0.91665546 0.94919363 0.97084883 0.96796146\n",
      " 0.99511368 0.97451357 0.96668438 0.99428082 0.95519046 0.94897156\n",
      " 0.94125345 0.95924391 0.97395828 0.97751194 1.         0.99422524\n",
      " 0.99472504 0.98817293 0.98467484 0.95842528 0.93522727 0.90948224\n",
      " 0.88384616 0.85921669 0.83587253 0.81363142 0.79206395 0.77069175\n",
      " 0.74913204 0.72717261 0.70478761 0.682109  ]\n",
      "13 day output [[0.65937364]]\n",
      "14 day input [0.84175082 0.84552655 0.85185651 0.85546575 0.86873647 0.85996335\n",
      " 0.85418867 0.82587037 0.82909089 0.82115062 0.82620351 0.82487085\n",
      " 0.80971228 0.79238818 0.7951089  0.80854627 0.8139878  0.81448751\n",
      " 0.80588096 0.78666901 0.79177739 0.78439242 0.79077788 0.77128827\n",
      " 0.78222691 0.78716872 0.79433154 0.79216603 0.79166632 0.78444792\n",
      " 0.7811164  0.79694127 0.80293809 0.81243308 0.82470429 0.82748059\n",
      " 0.82870217 0.82431564 0.824038   0.82781381 0.82520408 0.84585977\n",
      " 0.83047904 0.82581487 0.83170062 0.83986295 0.83692008 0.83869687\n",
      " 0.8340327  0.83608714 0.82004012 0.81976247 0.83153404 0.83158954\n",
      " 0.83714215 0.85096815 0.8752885  0.89016952 0.89277925 0.89494476\n",
      " 0.89788763 0.86940276 0.88844822 0.91654438 0.91360151 0.90799333\n",
      " 0.89733234 0.91665546 0.94919363 0.97084883 0.96796146 0.99511368\n",
      " 0.97451357 0.96668438 0.99428082 0.95519046 0.94897156 0.94125345\n",
      " 0.95924391 0.97395828 0.97751194 1.         0.99422524 0.99472504\n",
      " 0.98817293 0.98467484 0.95842528 0.93522727 0.90948224 0.88384616\n",
      " 0.85921669 0.83587253 0.81363142 0.79206395 0.77069175 0.74913204\n",
      " 0.72717261 0.70478761 0.682109   0.65937364]\n",
      "14 day output [[0.63686466]]\n",
      "15 day input [0.84552655 0.85185651 0.85546575 0.86873647 0.85996335 0.85418867\n",
      " 0.82587037 0.82909089 0.82115062 0.82620351 0.82487085 0.80971228\n",
      " 0.79238818 0.7951089  0.80854627 0.8139878  0.81448751 0.80588096\n",
      " 0.78666901 0.79177739 0.78439242 0.79077788 0.77128827 0.78222691\n",
      " 0.78716872 0.79433154 0.79216603 0.79166632 0.78444792 0.7811164\n",
      " 0.79694127 0.80293809 0.81243308 0.82470429 0.82748059 0.82870217\n",
      " 0.82431564 0.824038   0.82781381 0.82520408 0.84585977 0.83047904\n",
      " 0.82581487 0.83170062 0.83986295 0.83692008 0.83869687 0.8340327\n",
      " 0.83608714 0.82004012 0.81976247 0.83153404 0.83158954 0.83714215\n",
      " 0.85096815 0.8752885  0.89016952 0.89277925 0.89494476 0.89788763\n",
      " 0.86940276 0.88844822 0.91654438 0.91360151 0.90799333 0.89733234\n",
      " 0.91665546 0.94919363 0.97084883 0.96796146 0.99511368 0.97451357\n",
      " 0.96668438 0.99428082 0.95519046 0.94897156 0.94125345 0.95924391\n",
      " 0.97395828 0.97751194 1.         0.99422524 0.99472504 0.98817293\n",
      " 0.98467484 0.95842528 0.93522727 0.90948224 0.88384616 0.85921669\n",
      " 0.83587253 0.81363142 0.79206395 0.77069175 0.74913204 0.72717261\n",
      " 0.70478761 0.682109   0.65937364 0.63686466]\n",
      "15 day output [[0.6148604]]\n",
      "16 day input [0.85185651 0.85546575 0.86873647 0.85996335 0.85418867 0.82587037\n",
      " 0.82909089 0.82115062 0.82620351 0.82487085 0.80971228 0.79238818\n",
      " 0.7951089  0.80854627 0.8139878  0.81448751 0.80588096 0.78666901\n",
      " 0.79177739 0.78439242 0.79077788 0.77128827 0.78222691 0.78716872\n",
      " 0.79433154 0.79216603 0.79166632 0.78444792 0.7811164  0.79694127\n",
      " 0.80293809 0.81243308 0.82470429 0.82748059 0.82870217 0.82431564\n",
      " 0.824038   0.82781381 0.82520408 0.84585977 0.83047904 0.82581487\n",
      " 0.83170062 0.83986295 0.83692008 0.83869687 0.8340327  0.83608714\n",
      " 0.82004012 0.81976247 0.83153404 0.83158954 0.83714215 0.85096815\n",
      " 0.8752885  0.89016952 0.89277925 0.89494476 0.89788763 0.86940276\n",
      " 0.88844822 0.91654438 0.91360151 0.90799333 0.89733234 0.91665546\n",
      " 0.94919363 0.97084883 0.96796146 0.99511368 0.97451357 0.96668438\n",
      " 0.99428082 0.95519046 0.94897156 0.94125345 0.95924391 0.97395828\n",
      " 0.97751194 1.         0.99422524 0.99472504 0.98817293 0.98467484\n",
      " 0.95842528 0.93522727 0.90948224 0.88384616 0.85921669 0.83587253\n",
      " 0.81363142 0.79206395 0.77069175 0.74913204 0.72717261 0.70478761\n",
      " 0.682109   0.65937364 0.63686466 0.61486042]\n",
      "16 day output [[0.593598]]\n",
      "17 day input [0.85546575 0.86873647 0.85996335 0.85418867 0.82587037 0.82909089\n",
      " 0.82115062 0.82620351 0.82487085 0.80971228 0.79238818 0.7951089\n",
      " 0.80854627 0.8139878  0.81448751 0.80588096 0.78666901 0.79177739\n",
      " 0.78439242 0.79077788 0.77128827 0.78222691 0.78716872 0.79433154\n",
      " 0.79216603 0.79166632 0.78444792 0.7811164  0.79694127 0.80293809\n",
      " 0.81243308 0.82470429 0.82748059 0.82870217 0.82431564 0.824038\n",
      " 0.82781381 0.82520408 0.84585977 0.83047904 0.82581487 0.83170062\n",
      " 0.83986295 0.83692008 0.83869687 0.8340327  0.83608714 0.82004012\n",
      " 0.81976247 0.83153404 0.83158954 0.83714215 0.85096815 0.8752885\n",
      " 0.89016952 0.89277925 0.89494476 0.89788763 0.86940276 0.88844822\n",
      " 0.91654438 0.91360151 0.90799333 0.89733234 0.91665546 0.94919363\n",
      " 0.97084883 0.96796146 0.99511368 0.97451357 0.96668438 0.99428082\n",
      " 0.95519046 0.94897156 0.94125345 0.95924391 0.97395828 0.97751194\n",
      " 1.         0.99422524 0.99472504 0.98817293 0.98467484 0.95842528\n",
      " 0.93522727 0.90948224 0.88384616 0.85921669 0.83587253 0.81363142\n",
      " 0.79206395 0.77069175 0.74913204 0.72717261 0.70478761 0.682109\n",
      " 0.65937364 0.63686466 0.61486042 0.59359801]\n",
      "17 day output [[0.573254]]\n",
      "18 day input [0.86873647 0.85996335 0.85418867 0.82587037 0.82909089 0.82115062\n",
      " 0.82620351 0.82487085 0.80971228 0.79238818 0.7951089  0.80854627\n",
      " 0.8139878  0.81448751 0.80588096 0.78666901 0.79177739 0.78439242\n",
      " 0.79077788 0.77128827 0.78222691 0.78716872 0.79433154 0.79216603\n",
      " 0.79166632 0.78444792 0.7811164  0.79694127 0.80293809 0.81243308\n",
      " 0.82470429 0.82748059 0.82870217 0.82431564 0.824038   0.82781381\n",
      " 0.82520408 0.84585977 0.83047904 0.82581487 0.83170062 0.83986295\n",
      " 0.83692008 0.83869687 0.8340327  0.83608714 0.82004012 0.81976247\n",
      " 0.83153404 0.83158954 0.83714215 0.85096815 0.8752885  0.89016952\n",
      " 0.89277925 0.89494476 0.89788763 0.86940276 0.88844822 0.91654438\n",
      " 0.91360151 0.90799333 0.89733234 0.91665546 0.94919363 0.97084883\n",
      " 0.96796146 0.99511368 0.97451357 0.96668438 0.99428082 0.95519046\n",
      " 0.94897156 0.94125345 0.95924391 0.97395828 0.97751194 1.\n",
      " 0.99422524 0.99472504 0.98817293 0.98467484 0.95842528 0.93522727\n",
      " 0.90948224 0.88384616 0.85921669 0.83587253 0.81363142 0.79206395\n",
      " 0.77069175 0.74913204 0.72717261 0.70478761 0.682109   0.65937364\n",
      " 0.63686466 0.61486042 0.59359801 0.57325399]\n",
      "18 day output [[0.55394137]]\n",
      "19 day input [0.85996335 0.85418867 0.82587037 0.82909089 0.82115062 0.82620351\n",
      " 0.82487085 0.80971228 0.79238818 0.7951089  0.80854627 0.8139878\n",
      " 0.81448751 0.80588096 0.78666901 0.79177739 0.78439242 0.79077788\n",
      " 0.77128827 0.78222691 0.78716872 0.79433154 0.79216603 0.79166632\n",
      " 0.78444792 0.7811164  0.79694127 0.80293809 0.81243308 0.82470429\n",
      " 0.82748059 0.82870217 0.82431564 0.824038   0.82781381 0.82520408\n",
      " 0.84585977 0.83047904 0.82581487 0.83170062 0.83986295 0.83692008\n",
      " 0.83869687 0.8340327  0.83608714 0.82004012 0.81976247 0.83153404\n",
      " 0.83158954 0.83714215 0.85096815 0.8752885  0.89016952 0.89277925\n",
      " 0.89494476 0.89788763 0.86940276 0.88844822 0.91654438 0.91360151\n",
      " 0.90799333 0.89733234 0.91665546 0.94919363 0.97084883 0.96796146\n",
      " 0.99511368 0.97451357 0.96668438 0.99428082 0.95519046 0.94897156\n",
      " 0.94125345 0.95924391 0.97395828 0.97751194 1.         0.99422524\n",
      " 0.99472504 0.98817293 0.98467484 0.95842528 0.93522727 0.90948224\n",
      " 0.88384616 0.85921669 0.83587253 0.81363142 0.79206395 0.77069175\n",
      " 0.74913204 0.72717261 0.70478761 0.682109   0.65937364 0.63686466\n",
      " 0.61486042 0.59359801 0.57325399 0.55394137]\n",
      "19 day output [[0.535717]]\n",
      "20 day input [0.85418867 0.82587037 0.82909089 0.82115062 0.82620351 0.82487085\n",
      " 0.80971228 0.79238818 0.7951089  0.80854627 0.8139878  0.81448751\n",
      " 0.80588096 0.78666901 0.79177739 0.78439242 0.79077788 0.77128827\n",
      " 0.78222691 0.78716872 0.79433154 0.79216603 0.79166632 0.78444792\n",
      " 0.7811164  0.79694127 0.80293809 0.81243308 0.82470429 0.82748059\n",
      " 0.82870217 0.82431564 0.824038   0.82781381 0.82520408 0.84585977\n",
      " 0.83047904 0.82581487 0.83170062 0.83986295 0.83692008 0.83869687\n",
      " 0.8340327  0.83608714 0.82004012 0.81976247 0.83153404 0.83158954\n",
      " 0.83714215 0.85096815 0.8752885  0.89016952 0.89277925 0.89494476\n",
      " 0.89788763 0.86940276 0.88844822 0.91654438 0.91360151 0.90799333\n",
      " 0.89733234 0.91665546 0.94919363 0.97084883 0.96796146 0.99511368\n",
      " 0.97451357 0.96668438 0.99428082 0.95519046 0.94897156 0.94125345\n",
      " 0.95924391 0.97395828 0.97751194 1.         0.99422524 0.99472504\n",
      " 0.98817293 0.98467484 0.95842528 0.93522727 0.90948224 0.88384616\n",
      " 0.85921669 0.83587253 0.81363142 0.79206395 0.77069175 0.74913204\n",
      " 0.72717261 0.70478761 0.682109   0.65937364 0.63686466 0.61486042\n",
      " 0.59359801 0.57325399 0.55394137 0.53571701]\n",
      "20 day output [[0.5185956]]\n",
      "21 day input [0.82587037 0.82909089 0.82115062 0.82620351 0.82487085 0.80971228\n",
      " 0.79238818 0.7951089  0.80854627 0.8139878  0.81448751 0.80588096\n",
      " 0.78666901 0.79177739 0.78439242 0.79077788 0.77128827 0.78222691\n",
      " 0.78716872 0.79433154 0.79216603 0.79166632 0.78444792 0.7811164\n",
      " 0.79694127 0.80293809 0.81243308 0.82470429 0.82748059 0.82870217\n",
      " 0.82431564 0.824038   0.82781381 0.82520408 0.84585977 0.83047904\n",
      " 0.82581487 0.83170062 0.83986295 0.83692008 0.83869687 0.8340327\n",
      " 0.83608714 0.82004012 0.81976247 0.83153404 0.83158954 0.83714215\n",
      " 0.85096815 0.8752885  0.89016952 0.89277925 0.89494476 0.89788763\n",
      " 0.86940276 0.88844822 0.91654438 0.91360151 0.90799333 0.89733234\n",
      " 0.91665546 0.94919363 0.97084883 0.96796146 0.99511368 0.97451357\n",
      " 0.96668438 0.99428082 0.95519046 0.94897156 0.94125345 0.95924391\n",
      " 0.97395828 0.97751194 1.         0.99422524 0.99472504 0.98817293\n",
      " 0.98467484 0.95842528 0.93522727 0.90948224 0.88384616 0.85921669\n",
      " 0.83587253 0.81363142 0.79206395 0.77069175 0.74913204 0.72717261\n",
      " 0.70478761 0.682109   0.65937364 0.63686466 0.61486042 0.59359801\n",
      " 0.57325399 0.55394137 0.53571701 0.51859558]\n",
      "21 day output [[0.5025652]]\n",
      "22 day input [0.82909089 0.82115062 0.82620351 0.82487085 0.80971228 0.79238818\n",
      " 0.7951089  0.80854627 0.8139878  0.81448751 0.80588096 0.78666901\n",
      " 0.79177739 0.78439242 0.79077788 0.77128827 0.78222691 0.78716872\n",
      " 0.79433154 0.79216603 0.79166632 0.78444792 0.7811164  0.79694127\n",
      " 0.80293809 0.81243308 0.82470429 0.82748059 0.82870217 0.82431564\n",
      " 0.824038   0.82781381 0.82520408 0.84585977 0.83047904 0.82581487\n",
      " 0.83170062 0.83986295 0.83692008 0.83869687 0.8340327  0.83608714\n",
      " 0.82004012 0.81976247 0.83153404 0.83158954 0.83714215 0.85096815\n",
      " 0.8752885  0.89016952 0.89277925 0.89494476 0.89788763 0.86940276\n",
      " 0.88844822 0.91654438 0.91360151 0.90799333 0.89733234 0.91665546\n",
      " 0.94919363 0.97084883 0.96796146 0.99511368 0.97451357 0.96668438\n",
      " 0.99428082 0.95519046 0.94897156 0.94125345 0.95924391 0.97395828\n",
      " 0.97751194 1.         0.99422524 0.99472504 0.98817293 0.98467484\n",
      " 0.95842528 0.93522727 0.90948224 0.88384616 0.85921669 0.83587253\n",
      " 0.81363142 0.79206395 0.77069175 0.74913204 0.72717261 0.70478761\n",
      " 0.682109   0.65937364 0.63686466 0.61486042 0.59359801 0.57325399\n",
      " 0.55394137 0.53571701 0.51859558 0.50256521]\n",
      "22 day output [[0.48759982]]\n",
      "23 day input [0.82115062 0.82620351 0.82487085 0.80971228 0.79238818 0.7951089\n",
      " 0.80854627 0.8139878  0.81448751 0.80588096 0.78666901 0.79177739\n",
      " 0.78439242 0.79077788 0.77128827 0.78222691 0.78716872 0.79433154\n",
      " 0.79216603 0.79166632 0.78444792 0.7811164  0.79694127 0.80293809\n",
      " 0.81243308 0.82470429 0.82748059 0.82870217 0.82431564 0.824038\n",
      " 0.82781381 0.82520408 0.84585977 0.83047904 0.82581487 0.83170062\n",
      " 0.83986295 0.83692008 0.83869687 0.8340327  0.83608714 0.82004012\n",
      " 0.81976247 0.83153404 0.83158954 0.83714215 0.85096815 0.8752885\n",
      " 0.89016952 0.89277925 0.89494476 0.89788763 0.86940276 0.88844822\n",
      " 0.91654438 0.91360151 0.90799333 0.89733234 0.91665546 0.94919363\n",
      " 0.97084883 0.96796146 0.99511368 0.97451357 0.96668438 0.99428082\n",
      " 0.95519046 0.94897156 0.94125345 0.95924391 0.97395828 0.97751194\n",
      " 1.         0.99422524 0.99472504 0.98817293 0.98467484 0.95842528\n",
      " 0.93522727 0.90948224 0.88384616 0.85921669 0.83587253 0.81363142\n",
      " 0.79206395 0.77069175 0.74913204 0.72717261 0.70478761 0.682109\n",
      " 0.65937364 0.63686466 0.61486042 0.59359801 0.57325399 0.55394137\n",
      " 0.53571701 0.51859558 0.50256521 0.48759982]\n",
      "23 day output [[0.47366932]]\n",
      "24 day input [0.82620351 0.82487085 0.80971228 0.79238818 0.7951089  0.80854627\n",
      " 0.8139878  0.81448751 0.80588096 0.78666901 0.79177739 0.78439242\n",
      " 0.79077788 0.77128827 0.78222691 0.78716872 0.79433154 0.79216603\n",
      " 0.79166632 0.78444792 0.7811164  0.79694127 0.80293809 0.81243308\n",
      " 0.82470429 0.82748059 0.82870217 0.82431564 0.824038   0.82781381\n",
      " 0.82520408 0.84585977 0.83047904 0.82581487 0.83170062 0.83986295\n",
      " 0.83692008 0.83869687 0.8340327  0.83608714 0.82004012 0.81976247\n",
      " 0.83153404 0.83158954 0.83714215 0.85096815 0.8752885  0.89016952\n",
      " 0.89277925 0.89494476 0.89788763 0.86940276 0.88844822 0.91654438\n",
      " 0.91360151 0.90799333 0.89733234 0.91665546 0.94919363 0.97084883\n",
      " 0.96796146 0.99511368 0.97451357 0.96668438 0.99428082 0.95519046\n",
      " 0.94897156 0.94125345 0.95924391 0.97395828 0.97751194 1.\n",
      " 0.99422524 0.99472504 0.98817293 0.98467484 0.95842528 0.93522727\n",
      " 0.90948224 0.88384616 0.85921669 0.83587253 0.81363142 0.79206395\n",
      " 0.77069175 0.74913204 0.72717261 0.70478761 0.682109   0.65937364\n",
      " 0.63686466 0.61486042 0.59359801 0.57325399 0.55394137 0.53571701\n",
      " 0.51859558 0.50256521 0.48759982 0.47366932]\n",
      "24 day output [[0.46074405]]\n",
      "25 day input [0.82487085 0.80971228 0.79238818 0.7951089  0.80854627 0.8139878\n",
      " 0.81448751 0.80588096 0.78666901 0.79177739 0.78439242 0.79077788\n",
      " 0.77128827 0.78222691 0.78716872 0.79433154 0.79216603 0.79166632\n",
      " 0.78444792 0.7811164  0.79694127 0.80293809 0.81243308 0.82470429\n",
      " 0.82748059 0.82870217 0.82431564 0.824038   0.82781381 0.82520408\n",
      " 0.84585977 0.83047904 0.82581487 0.83170062 0.83986295 0.83692008\n",
      " 0.83869687 0.8340327  0.83608714 0.82004012 0.81976247 0.83153404\n",
      " 0.83158954 0.83714215 0.85096815 0.8752885  0.89016952 0.89277925\n",
      " 0.89494476 0.89788763 0.86940276 0.88844822 0.91654438 0.91360151\n",
      " 0.90799333 0.89733234 0.91665546 0.94919363 0.97084883 0.96796146\n",
      " 0.99511368 0.97451357 0.96668438 0.99428082 0.95519046 0.94897156\n",
      " 0.94125345 0.95924391 0.97395828 0.97751194 1.         0.99422524\n",
      " 0.99472504 0.98817293 0.98467484 0.95842528 0.93522727 0.90948224\n",
      " 0.88384616 0.85921669 0.83587253 0.81363142 0.79206395 0.77069175\n",
      " 0.74913204 0.72717261 0.70478761 0.682109   0.65937364 0.63686466\n",
      " 0.61486042 0.59359801 0.57325399 0.55394137 0.53571701 0.51859558\n",
      " 0.50256521 0.48759982 0.47366932 0.46074405]\n",
      "25 day output [[0.44879642]]\n",
      "26 day input [0.80971228 0.79238818 0.7951089  0.80854627 0.8139878  0.81448751\n",
      " 0.80588096 0.78666901 0.79177739 0.78439242 0.79077788 0.77128827\n",
      " 0.78222691 0.78716872 0.79433154 0.79216603 0.79166632 0.78444792\n",
      " 0.7811164  0.79694127 0.80293809 0.81243308 0.82470429 0.82748059\n",
      " 0.82870217 0.82431564 0.824038   0.82781381 0.82520408 0.84585977\n",
      " 0.83047904 0.82581487 0.83170062 0.83986295 0.83692008 0.83869687\n",
      " 0.8340327  0.83608714 0.82004012 0.81976247 0.83153404 0.83158954\n",
      " 0.83714215 0.85096815 0.8752885  0.89016952 0.89277925 0.89494476\n",
      " 0.89788763 0.86940276 0.88844822 0.91654438 0.91360151 0.90799333\n",
      " 0.89733234 0.91665546 0.94919363 0.97084883 0.96796146 0.99511368\n",
      " 0.97451357 0.96668438 0.99428082 0.95519046 0.94897156 0.94125345\n",
      " 0.95924391 0.97395828 0.97751194 1.         0.99422524 0.99472504\n",
      " 0.98817293 0.98467484 0.95842528 0.93522727 0.90948224 0.88384616\n",
      " 0.85921669 0.83587253 0.81363142 0.79206395 0.77069175 0.74913204\n",
      " 0.72717261 0.70478761 0.682109   0.65937364 0.63686466 0.61486042\n",
      " 0.59359801 0.57325399 0.55394137 0.53571701 0.51859558 0.50256521\n",
      " 0.48759982 0.47366932 0.46074405 0.44879642]\n",
      "26 day output [[0.4377997]]\n",
      "27 day input [0.79238818 0.7951089  0.80854627 0.8139878  0.81448751 0.80588096\n",
      " 0.78666901 0.79177739 0.78439242 0.79077788 0.77128827 0.78222691\n",
      " 0.78716872 0.79433154 0.79216603 0.79166632 0.78444792 0.7811164\n",
      " 0.79694127 0.80293809 0.81243308 0.82470429 0.82748059 0.82870217\n",
      " 0.82431564 0.824038   0.82781381 0.82520408 0.84585977 0.83047904\n",
      " 0.82581487 0.83170062 0.83986295 0.83692008 0.83869687 0.8340327\n",
      " 0.83608714 0.82004012 0.81976247 0.83153404 0.83158954 0.83714215\n",
      " 0.85096815 0.8752885  0.89016952 0.89277925 0.89494476 0.89788763\n",
      " 0.86940276 0.88844822 0.91654438 0.91360151 0.90799333 0.89733234\n",
      " 0.91665546 0.94919363 0.97084883 0.96796146 0.99511368 0.97451357\n",
      " 0.96668438 0.99428082 0.95519046 0.94897156 0.94125345 0.95924391\n",
      " 0.97395828 0.97751194 1.         0.99422524 0.99472504 0.98817293\n",
      " 0.98467484 0.95842528 0.93522727 0.90948224 0.88384616 0.85921669\n",
      " 0.83587253 0.81363142 0.79206395 0.77069175 0.74913204 0.72717261\n",
      " 0.70478761 0.682109   0.65937364 0.63686466 0.61486042 0.59359801\n",
      " 0.57325399 0.55394137 0.53571701 0.51859558 0.50256521 0.48759982\n",
      " 0.47366932 0.46074405 0.44879642 0.43779969]\n",
      "27 day output [[0.4277257]]\n",
      "28 day input [0.7951089  0.80854627 0.8139878  0.81448751 0.80588096 0.78666901\n",
      " 0.79177739 0.78439242 0.79077788 0.77128827 0.78222691 0.78716872\n",
      " 0.79433154 0.79216603 0.79166632 0.78444792 0.7811164  0.79694127\n",
      " 0.80293809 0.81243308 0.82470429 0.82748059 0.82870217 0.82431564\n",
      " 0.824038   0.82781381 0.82520408 0.84585977 0.83047904 0.82581487\n",
      " 0.83170062 0.83986295 0.83692008 0.83869687 0.8340327  0.83608714\n",
      " 0.82004012 0.81976247 0.83153404 0.83158954 0.83714215 0.85096815\n",
      " 0.8752885  0.89016952 0.89277925 0.89494476 0.89788763 0.86940276\n",
      " 0.88844822 0.91654438 0.91360151 0.90799333 0.89733234 0.91665546\n",
      " 0.94919363 0.97084883 0.96796146 0.99511368 0.97451357 0.96668438\n",
      " 0.99428082 0.95519046 0.94897156 0.94125345 0.95924391 0.97395828\n",
      " 0.97751194 1.         0.99422524 0.99472504 0.98817293 0.98467484\n",
      " 0.95842528 0.93522727 0.90948224 0.88384616 0.85921669 0.83587253\n",
      " 0.81363142 0.79206395 0.77069175 0.74913204 0.72717261 0.70478761\n",
      " 0.682109   0.65937364 0.63686466 0.61486042 0.59359801 0.57325399\n",
      " 0.55394137 0.53571701 0.51859558 0.50256521 0.48759982 0.47366932\n",
      " 0.46074405 0.44879642 0.43779969 0.4277257 ]\n",
      "28 day output [[0.41854262]]\n",
      "29 day input [0.80854627 0.8139878  0.81448751 0.80588096 0.78666901 0.79177739\n",
      " 0.78439242 0.79077788 0.77128827 0.78222691 0.78716872 0.79433154\n",
      " 0.79216603 0.79166632 0.78444792 0.7811164  0.79694127 0.80293809\n",
      " 0.81243308 0.82470429 0.82748059 0.82870217 0.82431564 0.824038\n",
      " 0.82781381 0.82520408 0.84585977 0.83047904 0.82581487 0.83170062\n",
      " 0.83986295 0.83692008 0.83869687 0.8340327  0.83608714 0.82004012\n",
      " 0.81976247 0.83153404 0.83158954 0.83714215 0.85096815 0.8752885\n",
      " 0.89016952 0.89277925 0.89494476 0.89788763 0.86940276 0.88844822\n",
      " 0.91654438 0.91360151 0.90799333 0.89733234 0.91665546 0.94919363\n",
      " 0.97084883 0.96796146 0.99511368 0.97451357 0.96668438 0.99428082\n",
      " 0.95519046 0.94897156 0.94125345 0.95924391 0.97395828 0.97751194\n",
      " 1.         0.99422524 0.99472504 0.98817293 0.98467484 0.95842528\n",
      " 0.93522727 0.90948224 0.88384616 0.85921669 0.83587253 0.81363142\n",
      " 0.79206395 0.77069175 0.74913204 0.72717261 0.70478761 0.682109\n",
      " 0.65937364 0.63686466 0.61486042 0.59359801 0.57325399 0.55394137\n",
      " 0.53571701 0.51859558 0.50256521 0.48759982 0.47366932 0.46074405\n",
      " 0.44879642 0.43779969 0.4277257  0.41854262]\n",
      "29 day output [[0.41021308]]\n",
      "[[0.9584252834320068], [0.9352272748947144], [0.9094822406768799], [0.8838461637496948], [0.8592166900634766], [0.8358725309371948], [0.8136314153671265], [0.7920639514923096], [0.7706917524337769], [0.7491320371627808], [0.7271726131439209], [0.7047876119613647], [0.682108998298645], [0.6593736410140991], [0.6368646621704102], [0.6148604154586792], [0.5935980081558228], [0.5732539892196655], [0.5539413690567017], [0.5357170104980469], [0.5185955762863159], [0.5025652050971985], [0.48759981989860535], [0.4736693203449249], [0.46074405312538147], [0.44879642128944397], [0.43779969215393066], [0.4277257025241852], [0.41854262351989746], [0.41021308302879333]]\n"
     ]
    }
   ],
   "source": [
    "# demonstrate prediction for next 30 days\n",
    "\n",
    "lst_output=[]\n",
    "n_steps=100\n",
    "i=0\n",
    "while(i<30):\n",
    "    \n",
    "    if(len(temp_input)>100):\n",
    "        #print(temp_input)\n",
    "        x_input=np.array(temp_input[1:])\n",
    "        print(\"{} day input {}\".format(i,x_input))\n",
    "        x_input=x_input.reshape(1,-1)\n",
    "        x_input = x_input.reshape((1, n_steps, 1))\n",
    "        #print(x_input)\n",
    "\n",
    "        yhat = model.predict(x_input, verbose=0)\n",
    "        print(\"{} day output {}\".format(i,yhat))\n",
    "        temp_input.extend(yhat[0].tolist())\n",
    "        temp_input=temp_input[1:]\n",
    "        #print(temp_input)\n",
    "\n",
    "        lst_output.extend(yhat.tolist())\n",
    "        i=i+1\n",
    "    else:\n",
    "        x_input = x_input.reshape((1, n_steps,1))\n",
    "        yhat = model.predict(x_input, verbose=0)\n",
    "        print(yhat[0])\n",
    "        temp_input.extend(yhat[0].tolist())\n",
    "        print(len(temp_input))\n",
    "        lst_output.extend(yhat.tolist())\n",
    "        i=i+1\n",
    "    \n",
    "\n",
    "print(lst_output)"
   ]
  },
  {
   "cell_type": "code",
   "execution_count": 48,
   "metadata": {
    "executionInfo": {
     "elapsed": 601,
     "status": "ok",
     "timestamp": 1662654262835,
     "user": {
      "displayName": "Abhiyantraka",
      "userId": "08575671547903053425"
     },
     "user_tz": -345
    },
    "id": "r_j5hK5H044W"
   },
   "outputs": [],
   "source": [
    "day_new=np.arange(1,101)\n",
    "day_pred=np.arange(101,131)"
   ]
  },
  {
   "cell_type": "code",
   "execution_count": 49,
   "metadata": {
    "colab": {
     "base_uri": "https://localhost:8080/"
    },
    "executionInfo": {
     "elapsed": 589,
     "status": "ok",
     "timestamp": 1662654271992,
     "user": {
      "displayName": "Abhiyantraka",
      "userId": "08575671547903053425"
     },
     "user_tz": -345
    },
    "id": "83QjeA966qlM",
    "outputId": "f201a231-bbca-4e68-9cdd-91f46b31716c"
   },
   "outputs": [
    {
     "data": {
      "text/plain": [
       "5536"
      ]
     },
     "execution_count": 49,
     "metadata": {},
     "output_type": "execute_result"
    }
   ],
   "source": [
    "len(df1)\n"
   ]
  },
  {
   "cell_type": "code",
   "execution_count": 50,
   "metadata": {
    "colab": {
     "base_uri": "https://localhost:8080/",
     "height": 282
    },
    "executionInfo": {
     "elapsed": 815,
     "status": "ok",
     "timestamp": 1662654336564,
     "user": {
      "displayName": "Abhiyantraka",
      "userId": "08575671547903053425"
     },
     "user_tz": -345
    },
    "id": "J0JxiaG56s0U",
    "outputId": "5d15c817-865b-41f0-95e9-c32084e6a2f8"
   },
   "outputs": [
    {
     "data": {
      "text/plain": [
       "[<matplotlib.lines.Line2D at 0x7f7171149ad0>]"
      ]
     },
     "execution_count": 50,
     "metadata": {},
     "output_type": "execute_result"
    },
    {
     "data": {
      "image/png": "[encoded data removed]",
      "text/plain": [
       "<Figure size 432x288 with 1 Axes>"
      ]
     },
     "metadata": {
      "needs_background": "light"
     },
     "output_type": "display_data"
    }
   ],
   "source": [
    "plt.plot(day_new,scaler.inverse_transform(df1[5436:]))   # last 100 day \n",
    "plt.plot(day_pred,scaler.inverse_transform(lst_output))"
   ]
  },
  {
   "cell_type": "code",
   "execution_count": 51,
   "metadata": {
    "colab": {
     "base_uri": "https://localhost:8080/",
     "height": 282
    },
    "executionInfo": {
     "elapsed": 2314,
     "status": "ok",
     "timestamp": 1662655478148,
     "user": {
      "displayName": "Abhiyantraka",
      "userId": "08575671547903053425"
     },
     "user_tz": -345
    },
    "id": "b_FJ6_Uc68h0",
    "outputId": "28d5c23c-c185-4b89-ae43-1e140fe19211"
   },
   "outputs": [
    {
     "data": {
      "text/plain": [
       "[<matplotlib.lines.Line2D at 0x7f71711e1790>]"
      ]
     },
     "execution_count": 51,
     "metadata": {},
     "output_type": "execute_result"
    },
    {
     "data": {
      "image/png": "[encoded data removed]",
      "text/plain": [
       "<Figure size 432x288 with 1 Axes>"
      ]
     },
     "metadata": {
      "needs_background": "light"
     },
     "output_type": "display_data"
    }
   ],
   "source": [
    "df3=df1.tolist()\n",
    "df3.extend(lst_output)\n",
    "plt.plot(df3[1200:])"
   ]
  },
  {
   "cell_type": "code",
   "execution_count": 52,
   "metadata": {
    "executionInfo": {
     "elapsed": 4,
     "status": "ok",
     "timestamp": 1662655492632,
     "user": {
      "displayName": "Abhiyantraka",
      "userId": "08575671547903053425"
     },
     "user_tz": -345
    },
    "id": "Lmm40_s0_SkQ"
   },
   "outputs": [],
   "source": [
    "df3=scaler.inverse_transform(df3).tolist()\n"
   ]
  },
  {
   "cell_type": "code",
   "execution_count": 53,
   "metadata": {
    "colab": {
     "base_uri": "https://localhost:8080/",
     "height": 282
    },
    "executionInfo": {
     "elapsed": 1286,
     "status": "ok",
     "timestamp": 1662655506294,
     "user": {
      "displayName": "Abhiyantraka",
      "userId": "08575671547903053425"
     },
     "user_tz": -345
    },
    "id": "uHiLNVxK_WqJ",
    "outputId": "0597dd04-db70-4a11-abcb-15489abfc661"
   },
   "outputs": [
    {
     "data": {
      "text/plain": [
       "[<matplotlib.lines.Line2D at 0x7f7170d66310>]"
      ]
     },
     "execution_count": 53,
     "metadata": {},
     "output_type": "execute_result"
    },
    {
     "data": {
      "image/png": "[encoded data removed]",
      "text/plain": [
       "<Figure size 432x288 with 1 Axes>"
      ]
     },
     "metadata": {
      "needs_background": "light"
     },
     "output_type": "display_data"
    }
   ],
   "source": [
    "plt.plot(df3)\n"
   ]
  },
  {
   "cell_type": "code",
   "execution_count": null,
   "metadata": {
    "id": "aSlGZmhg_Z7z"
   },
   "outputs": [],
   "source": []
  }
 ],
 "metadata": {
  "accelerator": "GPU",
  "colab": {
   "authorship_tag": "ABX9TyOQRZntzqR+VN6yvk667KDe",
   "collapsed_sections": [],
   "mount_file_id": "1H_EbgVwn3ks3qn03FblD5m49UXc70tyN",
   "provenance": []
  },
  "gpuClass": "standard",
  "kernelspec": {
   "display_name": "Python 3 (ipykernel)",
   "language": "python",
   "name": "python3"
  },
  "language_info": {
   "codemirror_mode": {
    "name": "ipython",
    "version": 3
   },
   "file_extension": ".py",
   "mimetype": "text/x-python",
   "name": "python",
   "nbconvert_exporter": "python",
   "pygments_lexer": "ipython3",
   "version": "3.9.12"
  }
 },
 "nbformat": 4,
 "nbformat_minor": 1
}
